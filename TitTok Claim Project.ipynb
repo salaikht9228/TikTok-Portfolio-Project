{
 "cells": [
  {
   "cell_type": "markdown",
   "id": "345d2281",
   "metadata": {},
   "source": [
    "# TikTok Project"
   ]
  },
  {
   "cell_type": "markdown",
   "id": "1c99e1ac",
   "metadata": {
    "jp-MarkdownHeadingCollapsed": true
   },
   "source": [
    "## Understand the business scenario and problem\n",
    "\n",
    "TikTok users can report videos that they believe are claims, thereby violating the platform's terms of service. Because there are millions of TikTok videos created and viewed everyday, this means that many videos get reported &mdash; too many to be individually reviewed by a human moderator. \n",
    "\n",
    "Hence, TikTok wants to build a machine learning predictive model to help identify whether videos claims or opinions. Videos that are labeled opinions will be less likely to go on to be reviewed by a human moderator. Videos that are labeled as claims  will be further sorted by a downstream process to determine whether they should get prioritized for review. For example, these videos would be ranked by how many times they were reported, then the top x% would be reviewed by a human each day.\n",
    "\n",
    "A machine learning model would be greatly assist in the effort to present human moderators with videos that are most likely to be violation of TikTok's terms of service."
   ]
  },
  {
   "cell_type": "markdown",
   "id": "60807893-6918-4724-9a92-b13c476f1f69",
   "metadata": {},
   "source": [
    "## Plan"
   ]
  },
  {
   "cell_type": "markdown",
   "id": "81ba47af-571d-4b38-9485-7ff8905d83e5",
   "metadata": {},
   "source": [
    "### TikTok dataset\n",
    "\n",
    "In this dataset, there are 19,382 rows, 12 columns, and these variables:\n",
    "\n",
    "Variable | Description|\n",
    "-----|-----|\n",
    "`#`|TikTok assigned number for video with claim/opinion|\n",
    "`claim_status`|Whether the published video has been identified as an “opinion” or a “claim.” In this dataset, an “opinion” refers to an individual’s or group’s personal beliefs or thoughts. A “claim” refers to information that is either unsourced or from an unverified source.|\n",
    "`video_id`|Random identifying number assigned to video upon publication on TikTok|\n",
    "`video_duration_sec`|How long the published video is measured in seconds|\n",
    "`video_transcription_test`|Transcribed text of the words spoken in the published video|\n",
    "`verified_status`|Indicates the status of the TikTok user who published the video in terms of their verification, either “verified” or “not verified” |\n",
    "`author_ban_status`|Indicates the status of the TikTok user who published the video in terms of their permissions: “active,” “under scrutiny,” or “banned” |\n",
    "`video_view_count`|The total number of times the published video has been viewed |\n",
    "`video_like_count`|The total number of times the published video has been liked by other users |\n",
    "`video_share_count`|The total number of times the published video has been shared by other users |\n",
    "`video_download_count`|The total number of times the published video has been downloaded by other users |\n",
    "`video_comment_count`|The total number of comments on the published video |"
   ]
  },
  {
   "cell_type": "markdown",
   "id": "b11c47fa-16b3-4ab9-bc35-83ea0190d05f",
   "metadata": {},
   "source": [
    "### Imports\n",
    "\n",
    "* Import packages\n",
    "* Load dataset"
   ]
  },
  {
   "cell_type": "code",
   "execution_count": 1,
   "id": "587e7c22-245a-4cc1-aa50-cbc880e1dd66",
   "metadata": {},
   "outputs": [],
   "source": [
    "# import packages\n",
    "\n",
    "# for data manipulation\n",
    "\n",
    "import pandas as pd\n",
    "import numpy as np\n",
    "\n",
    "# for data visualization\n",
    "\n",
    "import matplotlib.pyplot as plt\n",
    "import seaborn as sns\n",
    "\n",
    "# for displaying all of the columns and decimal places in dataframes\n",
    "\n",
    "pd.set_option('display.max_columns', None)\n",
    "pd.set_option('display.float_format', '{:.4f}'.format)\n",
    "\n",
    "# for data preprocessing\n",
    "\n",
    "from sklearn.feature_extraction.text import CountVectorizer\n",
    "\n",
    "# for data modeling\n",
    "\n",
    "from xgboost import XGBClassifier\n",
    "from xgboost import plot_importance\n",
    "\n",
    "from sklearn.linear_model import LogisticRegression\n",
    "from sklearn.ensemble import RandomForestClassifier\n",
    "\n",
    "# for metrics and helpful functions\n",
    "\n",
    "from sklearn.model_selection import train_test_split, GridSearchCV\n",
    "from sklearn.metrics import accuracy_score, precision_score, f1_score, recall_score, confusion_matrix, ConfusionMatrixDisplay,\\\n",
    "classification_report\n",
    "\n",
    "# for saving models\n",
    "import pickle\n",
    "import os"
   ]
  },
  {
   "cell_type": "code",
   "execution_count": 2,
   "id": "47450746-5ae5-419e-bbeb-e3453592e221",
   "metadata": {},
   "outputs": [
    {
     "data": {
      "text/html": [
       "<div>\n",
       "<style scoped>\n",
       "    .dataframe tbody tr th:only-of-type {\n",
       "        vertical-align: middle;\n",
       "    }\n",
       "\n",
       "    .dataframe tbody tr th {\n",
       "        vertical-align: top;\n",
       "    }\n",
       "\n",
       "    .dataframe thead th {\n",
       "        text-align: right;\n",
       "    }\n",
       "</style>\n",
       "<table border=\"1\" class=\"dataframe\">\n",
       "  <thead>\n",
       "    <tr style=\"text-align: right;\">\n",
       "      <th></th>\n",
       "      <th>#</th>\n",
       "      <th>claim_status</th>\n",
       "      <th>video_id</th>\n",
       "      <th>video_duration_sec</th>\n",
       "      <th>video_transcription_text</th>\n",
       "      <th>verified_status</th>\n",
       "      <th>author_ban_status</th>\n",
       "      <th>video_view_count</th>\n",
       "      <th>video_like_count</th>\n",
       "      <th>video_share_count</th>\n",
       "      <th>video_download_count</th>\n",
       "      <th>video_comment_count</th>\n",
       "    </tr>\n",
       "  </thead>\n",
       "  <tbody>\n",
       "    <tr>\n",
       "      <th>0</th>\n",
       "      <td>1</td>\n",
       "      <td>claim</td>\n",
       "      <td>7017666017</td>\n",
       "      <td>59</td>\n",
       "      <td>someone shared with me that drone deliveries a...</td>\n",
       "      <td>not verified</td>\n",
       "      <td>under review</td>\n",
       "      <td>343296.0000</td>\n",
       "      <td>19425.0000</td>\n",
       "      <td>241.0000</td>\n",
       "      <td>1.0000</td>\n",
       "      <td>0.0000</td>\n",
       "    </tr>\n",
       "    <tr>\n",
       "      <th>1</th>\n",
       "      <td>2</td>\n",
       "      <td>claim</td>\n",
       "      <td>4014381136</td>\n",
       "      <td>32</td>\n",
       "      <td>someone shared with me that there are more mic...</td>\n",
       "      <td>not verified</td>\n",
       "      <td>active</td>\n",
       "      <td>140877.0000</td>\n",
       "      <td>77355.0000</td>\n",
       "      <td>19034.0000</td>\n",
       "      <td>1161.0000</td>\n",
       "      <td>684.0000</td>\n",
       "    </tr>\n",
       "    <tr>\n",
       "      <th>2</th>\n",
       "      <td>3</td>\n",
       "      <td>claim</td>\n",
       "      <td>9859838091</td>\n",
       "      <td>31</td>\n",
       "      <td>someone shared with me that american industria...</td>\n",
       "      <td>not verified</td>\n",
       "      <td>active</td>\n",
       "      <td>902185.0000</td>\n",
       "      <td>97690.0000</td>\n",
       "      <td>2858.0000</td>\n",
       "      <td>833.0000</td>\n",
       "      <td>329.0000</td>\n",
       "    </tr>\n",
       "    <tr>\n",
       "      <th>3</th>\n",
       "      <td>4</td>\n",
       "      <td>claim</td>\n",
       "      <td>1866847991</td>\n",
       "      <td>25</td>\n",
       "      <td>someone shared with me that the metro of st. p...</td>\n",
       "      <td>not verified</td>\n",
       "      <td>active</td>\n",
       "      <td>437506.0000</td>\n",
       "      <td>239954.0000</td>\n",
       "      <td>34812.0000</td>\n",
       "      <td>1234.0000</td>\n",
       "      <td>584.0000</td>\n",
       "    </tr>\n",
       "    <tr>\n",
       "      <th>4</th>\n",
       "      <td>5</td>\n",
       "      <td>claim</td>\n",
       "      <td>7105231098</td>\n",
       "      <td>19</td>\n",
       "      <td>someone shared with me that the number of busi...</td>\n",
       "      <td>not verified</td>\n",
       "      <td>active</td>\n",
       "      <td>56167.0000</td>\n",
       "      <td>34987.0000</td>\n",
       "      <td>4110.0000</td>\n",
       "      <td>547.0000</td>\n",
       "      <td>152.0000</td>\n",
       "    </tr>\n",
       "  </tbody>\n",
       "</table>\n",
       "</div>"
      ],
      "text/plain": [
       "   # claim_status    video_id  video_duration_sec  \\\n",
       "0  1        claim  7017666017                  59   \n",
       "1  2        claim  4014381136                  32   \n",
       "2  3        claim  9859838091                  31   \n",
       "3  4        claim  1866847991                  25   \n",
       "4  5        claim  7105231098                  19   \n",
       "\n",
       "                            video_transcription_text verified_status  \\\n",
       "0  someone shared with me that drone deliveries a...    not verified   \n",
       "1  someone shared with me that there are more mic...    not verified   \n",
       "2  someone shared with me that american industria...    not verified   \n",
       "3  someone shared with me that the metro of st. p...    not verified   \n",
       "4  someone shared with me that the number of busi...    not verified   \n",
       "\n",
       "  author_ban_status  video_view_count  video_like_count  video_share_count  \\\n",
       "0      under review       343296.0000        19425.0000           241.0000   \n",
       "1            active       140877.0000        77355.0000         19034.0000   \n",
       "2            active       902185.0000        97690.0000          2858.0000   \n",
       "3            active       437506.0000       239954.0000         34812.0000   \n",
       "4            active        56167.0000        34987.0000          4110.0000   \n",
       "\n",
       "   video_download_count  video_comment_count  \n",
       "0                1.0000               0.0000  \n",
       "1             1161.0000             684.0000  \n",
       "2              833.0000             329.0000  \n",
       "3             1234.0000             584.0000  \n",
       "4              547.0000             152.0000  "
      ]
     },
     "execution_count": 2,
     "metadata": {},
     "output_type": "execute_result"
    }
   ],
   "source": [
    "# load dataset into a dataframe\n",
    "data = pd.read_csv(r'/Google Advance Data Analytic/Course 6_ML/Module 5/TikTok/tiktok_dataset.csv')\n",
    "\n",
    "data.head(5)"
   ]
  },
  {
   "cell_type": "markdown",
   "id": "5b70c3aa-f4ad-453e-accb-a16a6fd440d2",
   "metadata": {},
   "source": [
    "## Analyze"
   ]
  },
  {
   "cell_type": "markdown",
   "id": "eba1ef7c",
   "metadata": {},
   "source": [
    "### Exploratory Data Analysis\n",
    "\n",
    "* Understand variables\n",
    "* Clean the dataset"
   ]
  },
  {
   "cell_type": "code",
   "execution_count": 3,
   "id": "6be52b96",
   "metadata": {},
   "outputs": [
    {
     "name": "stdout",
     "output_type": "stream",
     "text": [
      "<class 'pandas.core.frame.DataFrame'>\n",
      "RangeIndex: 19382 entries, 0 to 19381\n",
      "Data columns (total 12 columns):\n",
      " #   Column                    Non-Null Count  Dtype  \n",
      "---  ------                    --------------  -----  \n",
      " 0   #                         19382 non-null  int64  \n",
      " 1   claim_status              19084 non-null  object \n",
      " 2   video_id                  19382 non-null  int64  \n",
      " 3   video_duration_sec        19382 non-null  int64  \n",
      " 4   video_transcription_text  19084 non-null  object \n",
      " 5   verified_status           19382 non-null  object \n",
      " 6   author_ban_status         19382 non-null  object \n",
      " 7   video_view_count          19084 non-null  float64\n",
      " 8   video_like_count          19084 non-null  float64\n",
      " 9   video_share_count         19084 non-null  float64\n",
      " 10  video_download_count      19084 non-null  float64\n",
      " 11  video_comment_count       19084 non-null  float64\n",
      "dtypes: float64(5), int64(3), object(4)\n",
      "memory usage: 1.8+ MB\n"
     ]
    }
   ],
   "source": [
    "# Basic information about the the data\n",
    "\n",
    "data.info()"
   ]
  },
  {
   "cell_type": "markdown",
   "id": "cf5e6f60",
   "metadata": {},
   "source": [
    "> There are 19382 TikTok videos published with 12 aspects of the individual video are recorded in the dataset. This dataset contains **missing values**, and has 5 float variables, 3 interger variables and 4 object variables."
   ]
  },
  {
   "cell_type": "code",
   "execution_count": 4,
   "id": "81e4699e",
   "metadata": {},
   "outputs": [
    {
     "data": {
      "text/html": [
       "<div>\n",
       "<style scoped>\n",
       "    .dataframe tbody tr th:only-of-type {\n",
       "        vertical-align: middle;\n",
       "    }\n",
       "\n",
       "    .dataframe tbody tr th {\n",
       "        vertical-align: top;\n",
       "    }\n",
       "\n",
       "    .dataframe thead th {\n",
       "        text-align: right;\n",
       "    }\n",
       "</style>\n",
       "<table border=\"1\" class=\"dataframe\">\n",
       "  <thead>\n",
       "    <tr style=\"text-align: right;\">\n",
       "      <th></th>\n",
       "      <th>#</th>\n",
       "      <th>claim_status</th>\n",
       "      <th>video_id</th>\n",
       "      <th>video_duration_sec</th>\n",
       "      <th>video_transcription_text</th>\n",
       "      <th>verified_status</th>\n",
       "      <th>author_ban_status</th>\n",
       "      <th>video_view_count</th>\n",
       "      <th>video_like_count</th>\n",
       "      <th>video_share_count</th>\n",
       "      <th>video_download_count</th>\n",
       "      <th>video_comment_count</th>\n",
       "    </tr>\n",
       "  </thead>\n",
       "  <tbody>\n",
       "    <tr>\n",
       "      <th>count</th>\n",
       "      <td>19382.0000</td>\n",
       "      <td>19084</td>\n",
       "      <td>19382.0000</td>\n",
       "      <td>19382.0000</td>\n",
       "      <td>19084</td>\n",
       "      <td>19382</td>\n",
       "      <td>19382</td>\n",
       "      <td>19084.0000</td>\n",
       "      <td>19084.0000</td>\n",
       "      <td>19084.0000</td>\n",
       "      <td>19084.0000</td>\n",
       "      <td>19084.0000</td>\n",
       "    </tr>\n",
       "    <tr>\n",
       "      <th>unique</th>\n",
       "      <td>NaN</td>\n",
       "      <td>2</td>\n",
       "      <td>NaN</td>\n",
       "      <td>NaN</td>\n",
       "      <td>19012</td>\n",
       "      <td>2</td>\n",
       "      <td>3</td>\n",
       "      <td>NaN</td>\n",
       "      <td>NaN</td>\n",
       "      <td>NaN</td>\n",
       "      <td>NaN</td>\n",
       "      <td>NaN</td>\n",
       "    </tr>\n",
       "    <tr>\n",
       "      <th>top</th>\n",
       "      <td>NaN</td>\n",
       "      <td>claim</td>\n",
       "      <td>NaN</td>\n",
       "      <td>NaN</td>\n",
       "      <td>a friend read  in the media a claim that badmi...</td>\n",
       "      <td>not verified</td>\n",
       "      <td>active</td>\n",
       "      <td>NaN</td>\n",
       "      <td>NaN</td>\n",
       "      <td>NaN</td>\n",
       "      <td>NaN</td>\n",
       "      <td>NaN</td>\n",
       "    </tr>\n",
       "    <tr>\n",
       "      <th>freq</th>\n",
       "      <td>NaN</td>\n",
       "      <td>9608</td>\n",
       "      <td>NaN</td>\n",
       "      <td>NaN</td>\n",
       "      <td>2</td>\n",
       "      <td>18142</td>\n",
       "      <td>15663</td>\n",
       "      <td>NaN</td>\n",
       "      <td>NaN</td>\n",
       "      <td>NaN</td>\n",
       "      <td>NaN</td>\n",
       "      <td>NaN</td>\n",
       "    </tr>\n",
       "    <tr>\n",
       "      <th>mean</th>\n",
       "      <td>9691.5000</td>\n",
       "      <td>NaN</td>\n",
       "      <td>5627454067.3391</td>\n",
       "      <td>32.4217</td>\n",
       "      <td>NaN</td>\n",
       "      <td>NaN</td>\n",
       "      <td>NaN</td>\n",
       "      <td>254708.5587</td>\n",
       "      <td>84304.6360</td>\n",
       "      <td>16735.2483</td>\n",
       "      <td>1049.4296</td>\n",
       "      <td>349.3121</td>\n",
       "    </tr>\n",
       "    <tr>\n",
       "      <th>std</th>\n",
       "      <td>5595.2458</td>\n",
       "      <td>NaN</td>\n",
       "      <td>2536440464.1694</td>\n",
       "      <td>16.2300</td>\n",
       "      <td>NaN</td>\n",
       "      <td>NaN</td>\n",
       "      <td>NaN</td>\n",
       "      <td>322893.2808</td>\n",
       "      <td>133420.5468</td>\n",
       "      <td>32036.1744</td>\n",
       "      <td>2004.2999</td>\n",
       "      <td>799.6389</td>\n",
       "    </tr>\n",
       "    <tr>\n",
       "      <th>min</th>\n",
       "      <td>1.0000</td>\n",
       "      <td>NaN</td>\n",
       "      <td>1234959018.0000</td>\n",
       "      <td>5.0000</td>\n",
       "      <td>NaN</td>\n",
       "      <td>NaN</td>\n",
       "      <td>NaN</td>\n",
       "      <td>20.0000</td>\n",
       "      <td>0.0000</td>\n",
       "      <td>0.0000</td>\n",
       "      <td>0.0000</td>\n",
       "      <td>0.0000</td>\n",
       "    </tr>\n",
       "    <tr>\n",
       "      <th>25%</th>\n",
       "      <td>4846.2500</td>\n",
       "      <td>NaN</td>\n",
       "      <td>3430416807.2500</td>\n",
       "      <td>18.0000</td>\n",
       "      <td>NaN</td>\n",
       "      <td>NaN</td>\n",
       "      <td>NaN</td>\n",
       "      <td>4942.5000</td>\n",
       "      <td>810.7500</td>\n",
       "      <td>115.0000</td>\n",
       "      <td>7.0000</td>\n",
       "      <td>1.0000</td>\n",
       "    </tr>\n",
       "    <tr>\n",
       "      <th>50%</th>\n",
       "      <td>9691.5000</td>\n",
       "      <td>NaN</td>\n",
       "      <td>5618663579.0000</td>\n",
       "      <td>32.0000</td>\n",
       "      <td>NaN</td>\n",
       "      <td>NaN</td>\n",
       "      <td>NaN</td>\n",
       "      <td>9954.5000</td>\n",
       "      <td>3403.5000</td>\n",
       "      <td>717.0000</td>\n",
       "      <td>46.0000</td>\n",
       "      <td>9.0000</td>\n",
       "    </tr>\n",
       "    <tr>\n",
       "      <th>75%</th>\n",
       "      <td>14536.7500</td>\n",
       "      <td>NaN</td>\n",
       "      <td>7843960211.2500</td>\n",
       "      <td>47.0000</td>\n",
       "      <td>NaN</td>\n",
       "      <td>NaN</td>\n",
       "      <td>NaN</td>\n",
       "      <td>504327.0000</td>\n",
       "      <td>125020.0000</td>\n",
       "      <td>18222.0000</td>\n",
       "      <td>1156.2500</td>\n",
       "      <td>292.0000</td>\n",
       "    </tr>\n",
       "    <tr>\n",
       "      <th>max</th>\n",
       "      <td>19382.0000</td>\n",
       "      <td>NaN</td>\n",
       "      <td>9999873075.0000</td>\n",
       "      <td>60.0000</td>\n",
       "      <td>NaN</td>\n",
       "      <td>NaN</td>\n",
       "      <td>NaN</td>\n",
       "      <td>999817.0000</td>\n",
       "      <td>657830.0000</td>\n",
       "      <td>256130.0000</td>\n",
       "      <td>14994.0000</td>\n",
       "      <td>9599.0000</td>\n",
       "    </tr>\n",
       "  </tbody>\n",
       "</table>\n",
       "</div>"
      ],
      "text/plain": [
       "                # claim_status        video_id  video_duration_sec  \\\n",
       "count  19382.0000        19084      19382.0000          19382.0000   \n",
       "unique        NaN            2             NaN                 NaN   \n",
       "top           NaN        claim             NaN                 NaN   \n",
       "freq          NaN         9608             NaN                 NaN   \n",
       "mean    9691.5000          NaN 5627454067.3391             32.4217   \n",
       "std     5595.2458          NaN 2536440464.1694             16.2300   \n",
       "min        1.0000          NaN 1234959018.0000              5.0000   \n",
       "25%     4846.2500          NaN 3430416807.2500             18.0000   \n",
       "50%     9691.5000          NaN 5618663579.0000             32.0000   \n",
       "75%    14536.7500          NaN 7843960211.2500             47.0000   \n",
       "max    19382.0000          NaN 9999873075.0000             60.0000   \n",
       "\n",
       "                                 video_transcription_text verified_status  \\\n",
       "count                                               19084           19382   \n",
       "unique                                              19012               2   \n",
       "top     a friend read  in the media a claim that badmi...    not verified   \n",
       "freq                                                    2           18142   \n",
       "mean                                                  NaN             NaN   \n",
       "std                                                   NaN             NaN   \n",
       "min                                                   NaN             NaN   \n",
       "25%                                                   NaN             NaN   \n",
       "50%                                                   NaN             NaN   \n",
       "75%                                                   NaN             NaN   \n",
       "max                                                   NaN             NaN   \n",
       "\n",
       "       author_ban_status  video_view_count  video_like_count  \\\n",
       "count              19382        19084.0000        19084.0000   \n",
       "unique                 3               NaN               NaN   \n",
       "top               active               NaN               NaN   \n",
       "freq               15663               NaN               NaN   \n",
       "mean                 NaN       254708.5587        84304.6360   \n",
       "std                  NaN       322893.2808       133420.5468   \n",
       "min                  NaN           20.0000            0.0000   \n",
       "25%                  NaN         4942.5000          810.7500   \n",
       "50%                  NaN         9954.5000         3403.5000   \n",
       "75%                  NaN       504327.0000       125020.0000   \n",
       "max                  NaN       999817.0000       657830.0000   \n",
       "\n",
       "        video_share_count  video_download_count  video_comment_count  \n",
       "count          19084.0000            19084.0000           19084.0000  \n",
       "unique                NaN                   NaN                  NaN  \n",
       "top                   NaN                   NaN                  NaN  \n",
       "freq                  NaN                   NaN                  NaN  \n",
       "mean           16735.2483             1049.4296             349.3121  \n",
       "std            32036.1744             2004.2999             799.6389  \n",
       "min                0.0000                0.0000               0.0000  \n",
       "25%              115.0000                7.0000               1.0000  \n",
       "50%              717.0000               46.0000               9.0000  \n",
       "75%            18222.0000             1156.2500             292.0000  \n",
       "max           256130.0000            14994.0000            9599.0000  "
      ]
     },
     "execution_count": 4,
     "metadata": {},
     "output_type": "execute_result"
    }
   ],
   "source": [
    "# Descriptive statistics about the data\n",
    "\n",
    "data.describe(include='all')"
   ]
  },
  {
   "cell_type": "markdown",
   "id": "fe9d36a6",
   "metadata": {},
   "source": [
    "> `claim_status`: There are 2 unique classes in this variable with 'claim' being the most frequent class observed in this variable. <br>\n",
    "`video_duration_sec`: This variable seems to be normally distributed since mean and median (50%) have similar values and no outliers since values of 75% and max are relatively close. <br>\n",
    "`video_transcription_test`: There are 19012 unique classes in this variable. <br>\n",
    "`verified_status`: There are 2 unique classes in this variable with 'not verified' being the most frequent class observed in this variable. <br>\n",
    "`author_ban_status`: There are 3 unique classes in this variable with 'active' being the most frequent class observed in this variable. <br>\n",
    "`video_view_count`: The variable seems to have **right skewed distribution**  since mean and median values are different.<br>\n",
    "`video_like_count`: The variable seems to have **right skewed distribution** with outliers since max values are relatively much higher than 75% value. <br>\n",
    "`video_share_count`: The variable seems to have **right skewed distribution** with outliers since max values are relatively much higher than 75% value. <br>\n",
    "`video_download_count`: The variable seems to have **right skewed distribution** with outliers since max values are relatively much higher than 75% value.<br>\n",
    "`video_comment_count`: The variable seems to have **right skewed distribution** with outliers since max values are relatively much higher than 75% value."
   ]
  },
  {
   "cell_type": "code",
   "execution_count": 5,
   "id": "40a9a1d0",
   "metadata": {},
   "outputs": [
    {
     "data": {
      "text/plain": [
       "#                             0\n",
       "claim_status                298\n",
       "video_id                      0\n",
       "video_duration_sec            0\n",
       "video_transcription_text    298\n",
       "verified_status               0\n",
       "author_ban_status             0\n",
       "video_view_count            298\n",
       "video_like_count            298\n",
       "video_share_count           298\n",
       "video_download_count        298\n",
       "video_comment_count         298\n",
       "dtype: int64"
      ]
     },
     "execution_count": 5,
     "metadata": {},
     "output_type": "execute_result"
    }
   ],
   "source": [
    "#check for any missing values in the data\n",
    "\n",
    "data.isna().sum()"
   ]
  },
  {
   "cell_type": "code",
   "execution_count": 6,
   "id": "0ac4b7d1",
   "metadata": {},
   "outputs": [
    {
     "data": {
      "text/plain": [
       "1.54"
      ]
     },
     "execution_count": 6,
     "metadata": {},
     "output_type": "execute_result"
    }
   ],
   "source": [
    "# percentage of missing values over the overall total values in the data\n",
    "\n",
    "round(data.isna().any(axis=1).sum()/len(data)*100, 2)"
   ]
  },
  {
   "cell_type": "markdown",
   "id": "1902892a",
   "metadata": {},
   "source": [
    "> There are 298 missing values in the dataset which is 1.54% of the total videos published on TikTok. <br>\n",
    "\n",
    "> Since the missing values are less than 5% of the data, we will subsequently remove this missing values from our dataset."
   ]
  },
  {
   "cell_type": "code",
   "execution_count": 7,
   "id": "99a05de2",
   "metadata": {},
   "outputs": [
    {
     "data": {
      "text/plain": [
       "#                           0\n",
       "claim_status                0\n",
       "video_id                    0\n",
       "video_duration_sec          0\n",
       "video_transcription_text    0\n",
       "verified_status             0\n",
       "author_ban_status           0\n",
       "video_view_count            0\n",
       "video_like_count            0\n",
       "video_share_count           0\n",
       "video_download_count        0\n",
       "video_comment_count         0\n",
       "dtype: int64"
      ]
     },
     "execution_count": 7,
     "metadata": {},
     "output_type": "execute_result"
    }
   ],
   "source": [
    "# drop rows with missing values\n",
    "\n",
    "data = data.dropna(axis=0)\n",
    "\n",
    "#check that there is no missing values now \n",
    "\n",
    "data.isna().sum()"
   ]
  },
  {
   "cell_type": "code",
   "execution_count": 8,
   "id": "05e02c7a",
   "metadata": {},
   "outputs": [
    {
     "data": {
      "text/plain": [
       "0"
      ]
     },
     "execution_count": 8,
     "metadata": {},
     "output_type": "execute_result"
    }
   ],
   "source": [
    "# check for duplicates\n",
    "\n",
    "data.duplicated().sum()"
   ]
  },
  {
   "cell_type": "markdown",
   "id": "f70396f0",
   "metadata": {},
   "source": [
    "> There are no duplicated data in this dataset."
   ]
  },
  {
   "cell_type": "markdown",
   "id": "eb92632a",
   "metadata": {},
   "source": [
    "### Data Visualization"
   ]
  },
  {
   "cell_type": "code",
   "execution_count": 9,
   "id": "adc137a0",
   "metadata": {},
   "outputs": [
    {
     "data": {
      "image/png": "[encoded data removed]",
      "text/plain": [
       "<Figure size 2200x800 with 2 Axes>"
      ]
     },
     "metadata": {},
     "output_type": "display_data"
    }
   ],
   "source": [
    "# boxplot showing 'video_duration_sec' distributions for 'author_ban_status' comparing video with claims versus opinions\n",
    "\n",
    "fig, ax = plt.subplots(1,2, figsize=(22,8))\n",
    "\n",
    "sns.despine()\n",
    "sns.boxplot(data=data, x='video_duration_sec', y='author_ban_status', hue='claim_status', orient ='h', ax= ax[0])\n",
    "ax[0].invert_yaxis()\n",
    "ax[0].set_title('Video duration by author ban status', fontsize='14')\n",
    "\n",
    "# histogram showing distribution of 'video_duration_sec', comparing videos claims versus opinions\n",
    "\n",
    "sns.histplot(data=data, x='video_duration_sec', hue='claim_status', multiple='dodge', shrink=2, ax=ax[1])\n",
    "ax[1].set_title('Video duration histogram', fontsize='14')\n",
    "\n",
    "plt.show()"
   ]
  },
  {
   "cell_type": "markdown",
   "id": "540b2bd8",
   "metadata": {},
   "source": [
    "> Based on the boxplot, the video durations are similar between videos with claim and opinions in all classes of the author ban status, suggesting that `video_duration_sec` may not be a strong predictor of whether video contains claims or opinions. Based on histogram, video duration is uniformly distributed."
   ]
  },
  {
   "cell_type": "code",
   "execution_count": 10,
   "id": "6dda2000",
   "metadata": {},
   "outputs": [
    {
     "data": {
      "image/png": "[encoded data removed]",
      "text/plain": [
       "<Figure size 2200x800 with 2 Axes>"
      ]
     },
     "metadata": {},
     "output_type": "display_data"
    }
   ],
   "source": [
    "from matplotlib.ticker import FuncFormatter\n",
    "\n",
    "#function to format large values without scientific notation\n",
    "\n",
    "def large_value_formatter(x, pos):\n",
    "    return f'{int(x):,}'\n",
    "\n",
    "# boxplot showing 'video_view_count' distributions for 'author_ban_status' comparing video with claims versus opinions\n",
    "\n",
    "fig, ax = plt.subplots(1,2, figsize=(22,8))\n",
    "\n",
    "sns.despine()\n",
    "sns.boxplot(data=data, x='video_view_count', y='author_ban_status', hue='claim_status', orient ='h', ax= ax[0])\n",
    "ax[0].invert_yaxis()\n",
    "ax[0].set_title('Video view count by author ban status', fontsize='14')\n",
    "ax[0].xaxis.set_major_formatter(FuncFormatter(large_value_formatter))\n",
    "\n",
    "# histogram showing distribution of 'video_view_count', comparing videos claims versus opinions\n",
    "\n",
    "sns.histplot(data=data, x='video_view_count', hue='claim_status', multiple='dodge', shrink=2, ax=ax[1])\n",
    "ax[1].set_title('Video view count histogram', fontsize='14')\n",
    "ax[1].xaxis.set_major_formatter(FuncFormatter(large_value_formatter))\n",
    "\n",
    "plt.show()"
   ]
  },
  {
   "cell_type": "code",
   "execution_count": 11,
   "id": "fa2f4ae7",
   "metadata": {},
   "outputs": [
    {
     "data": {
      "text/html": [
       "<div>\n",
       "<style scoped>\n",
       "    .dataframe tbody tr th:only-of-type {\n",
       "        vertical-align: middle;\n",
       "    }\n",
       "\n",
       "    .dataframe tbody tr th {\n",
       "        vertical-align: top;\n",
       "    }\n",
       "\n",
       "    .dataframe thead th {\n",
       "        text-align: right;\n",
       "    }\n",
       "</style>\n",
       "<table border=\"1\" class=\"dataframe\">\n",
       "  <thead>\n",
       "    <tr style=\"text-align: right;\">\n",
       "      <th></th>\n",
       "      <th>median</th>\n",
       "      <th>mean</th>\n",
       "    </tr>\n",
       "    <tr>\n",
       "      <th>claim_status</th>\n",
       "      <th></th>\n",
       "      <th></th>\n",
       "    </tr>\n",
       "  </thead>\n",
       "  <tbody>\n",
       "    <tr>\n",
       "      <th>claim</th>\n",
       "      <td>501555.0000</td>\n",
       "      <td>501029.4527</td>\n",
       "    </tr>\n",
       "    <tr>\n",
       "      <th>opinion</th>\n",
       "      <td>4953.0000</td>\n",
       "      <td>4956.4322</td>\n",
       "    </tr>\n",
       "  </tbody>\n",
       "</table>\n",
       "</div>"
      ],
      "text/plain": [
       "                  median        mean\n",
       "claim_status                        \n",
       "claim        501555.0000 501029.4527\n",
       "opinion        4953.0000   4956.4322"
      ]
     },
     "execution_count": 11,
     "metadata": {},
     "output_type": "execute_result"
    }
   ],
   "source": [
    "# mean and median video view counts in videos with claims and videos with opinions\n",
    "\n",
    "data.groupby('claim_status')['video_view_count'].agg({'mean','median'})"
   ]
  },
  {
   "cell_type": "markdown",
   "id": "184b30f7",
   "metadata": {},
   "source": [
    "> Based on the boxplot and histogram, video view counts are relatively much higher in videos with claims compared to videos with opinions in all classes of author ban status. This is observed in all three classes of the author ban status. The mean video view count of claim videos is around 50,0000 while mean video view count of opinion videos is around 5000. Hence, `video_view_count` may be a predictor of video claim status."
   ]
  },
  {
   "cell_type": "code",
   "execution_count": 12,
   "id": "b5959cdd",
   "metadata": {},
   "outputs": [
    {
     "data": {
      "image/png": "[encoded data removed]",
      "text/plain": [
       "<Figure size 2200x800 with 2 Axes>"
      ]
     },
     "metadata": {},
     "output_type": "display_data"
    }
   ],
   "source": [
    "# boxplot showing 'video_like_count' distributions for 'author_ban_status' comparing video with claims versus opinions\n",
    "\n",
    "fig, ax = plt.subplots(1,2, figsize=(22,8))\n",
    "\n",
    "sns.despine()\n",
    "sns.boxplot(data=data, x='video_like_count', y='author_ban_status', hue='claim_status', orient ='h', ax= ax[0])\n",
    "ax[0].invert_yaxis()\n",
    "ax[0].set_title('Video like count by author ban status', fontsize='14')\n",
    "ax[0].xaxis.set_major_formatter(FuncFormatter(large_value_formatter))\n",
    "\n",
    "# histogram showing distribution of 'video_view_count', comparing videos claims versus opinions\n",
    "\n",
    "sns.histplot(data=data, x='video_like_count', hue='claim_status', multiple='dodge', shrink=2, ax=ax[1])\n",
    "ax[1].set_title('Video like count histogram', fontsize='14')\n",
    "ax[1].xaxis.set_major_formatter(FuncFormatter(large_value_formatter))\n",
    "\n",
    "plt.show()"
   ]
  },
  {
   "cell_type": "code",
   "execution_count": 13,
   "id": "7f7e4185",
   "metadata": {},
   "outputs": [
    {
     "data": {
      "text/html": [
       "<div>\n",
       "<style scoped>\n",
       "    .dataframe tbody tr th:only-of-type {\n",
       "        vertical-align: middle;\n",
       "    }\n",
       "\n",
       "    .dataframe tbody tr th {\n",
       "        vertical-align: top;\n",
       "    }\n",
       "\n",
       "    .dataframe thead th {\n",
       "        text-align: right;\n",
       "    }\n",
       "</style>\n",
       "<table border=\"1\" class=\"dataframe\">\n",
       "  <thead>\n",
       "    <tr style=\"text-align: right;\">\n",
       "      <th></th>\n",
       "      <th>median</th>\n",
       "      <th>mean</th>\n",
       "    </tr>\n",
       "    <tr>\n",
       "      <th>claim_status</th>\n",
       "      <th></th>\n",
       "      <th></th>\n",
       "    </tr>\n",
       "  </thead>\n",
       "  <tbody>\n",
       "    <tr>\n",
       "      <th>claim</th>\n",
       "      <td>123649.0000</td>\n",
       "      <td>166373.3312</td>\n",
       "    </tr>\n",
       "    <tr>\n",
       "      <th>opinion</th>\n",
       "      <td>823.0000</td>\n",
       "      <td>1092.7298</td>\n",
       "    </tr>\n",
       "  </tbody>\n",
       "</table>\n",
       "</div>"
      ],
      "text/plain": [
       "                  median        mean\n",
       "claim_status                        \n",
       "claim        123649.0000 166373.3312\n",
       "opinion         823.0000   1092.7298"
      ]
     },
     "execution_count": 13,
     "metadata": {},
     "output_type": "execute_result"
    }
   ],
   "source": [
    "# mean and median video like counts in videos with claims and videos with opinions\n",
    "\n",
    "data.groupby('claim_status')['video_like_count'].agg({'mean','median'})"
   ]
  },
  {
   "cell_type": "markdown",
   "id": "d4dbab39",
   "metadata": {},
   "source": [
    "> Based on the boxplot and histogram, video like counts in claim videos are relatively higher than those in opinion videos. This is observed in all three classes of the author ban status. The median like count in claim video is around 12,0000 likes while the median like count in opinion video is around 800 likes. Hence, `video_like_count` may be a strong predictor of video claim status."
   ]
  },
  {
   "cell_type": "code",
   "execution_count": 14,
   "id": "dfe1e1c3",
   "metadata": {},
   "outputs": [
    {
     "data": {
      "image/png": "[encoded data removed]",
      "text/plain": [
       "<Figure size 2200x800 with 2 Axes>"
      ]
     },
     "metadata": {},
     "output_type": "display_data"
    }
   ],
   "source": [
    "# boxplot showing 'video_share_count' distributions for 'author_ban_status' comparing video with claims versus opinions\n",
    "\n",
    "fig, ax = plt.subplots(1,2, figsize=(22,8))\n",
    "\n",
    "sns.despine()\n",
    "sns.boxplot(data=data, x='video_share_count', y='author_ban_status', hue='claim_status', orient ='h', ax= ax[0])\n",
    "ax[0].invert_yaxis()\n",
    "ax[0].set_title('Video share count by author ban status', fontsize='14')\n",
    "ax[0].xaxis.set_major_formatter(FuncFormatter(large_value_formatter))\n",
    "\n",
    "# histogram showing distribution of 'video_view_count', comparing videos claims versus opinions\n",
    "\n",
    "sns.histplot(data=data, x='video_share_count', hue='claim_status', multiple='dodge', shrink=2, ax=ax[1])\n",
    "ax[1].set_title('Video share count histogram', fontsize='14')\n",
    "ax[1].xaxis.set_major_formatter(FuncFormatter(large_value_formatter))\n",
    "\n",
    "plt.show()"
   ]
  },
  {
   "cell_type": "code",
   "execution_count": 15,
   "id": "56880203",
   "metadata": {},
   "outputs": [
    {
     "data": {
      "text/html": [
       "<div>\n",
       "<style scoped>\n",
       "    .dataframe tbody tr th:only-of-type {\n",
       "        vertical-align: middle;\n",
       "    }\n",
       "\n",
       "    .dataframe tbody tr th {\n",
       "        vertical-align: top;\n",
       "    }\n",
       "\n",
       "    .dataframe thead th {\n",
       "        text-align: right;\n",
       "    }\n",
       "</style>\n",
       "<table border=\"1\" class=\"dataframe\">\n",
       "  <thead>\n",
       "    <tr style=\"text-align: right;\">\n",
       "      <th></th>\n",
       "      <th>median</th>\n",
       "      <th>mean</th>\n",
       "    </tr>\n",
       "    <tr>\n",
       "      <th>claim_status</th>\n",
       "      <th></th>\n",
       "      <th></th>\n",
       "    </tr>\n",
       "  </thead>\n",
       "  <tbody>\n",
       "    <tr>\n",
       "      <th>claim</th>\n",
       "      <td>17997.5000</td>\n",
       "      <td>33026.4162</td>\n",
       "    </tr>\n",
       "    <tr>\n",
       "      <th>opinion</th>\n",
       "      <td>121.0000</td>\n",
       "      <td>217.1456</td>\n",
       "    </tr>\n",
       "  </tbody>\n",
       "</table>\n",
       "</div>"
      ],
      "text/plain": [
       "                 median       mean\n",
       "claim_status                      \n",
       "claim        17997.5000 33026.4162\n",
       "opinion        121.0000   217.1456"
      ]
     },
     "execution_count": 15,
     "metadata": {},
     "output_type": "execute_result"
    }
   ],
   "source": [
    "# mean and median video share counts in videos with claims and videos with opinions\n",
    "\n",
    "data.groupby('claim_status')['video_share_count'].agg({'mean','median'})"
   ]
  },
  {
   "cell_type": "markdown",
   "id": "36bc34a9",
   "metadata": {},
   "source": [
    "> Based on the boxplot and histogram, video share counts are relatively much higher in claim videos (median of around 20,000) than those in opinion videos (median of around 120), highlighting that `video_share_count` may be a predictor of video claim status. This similar trend is observed in all three classes of author ban status."
   ]
  },
  {
   "cell_type": "code",
   "execution_count": 16,
   "id": "cdb58696",
   "metadata": {},
   "outputs": [
    {
     "data": {
      "image/png": "[encoded data removed]",
      "text/plain": [
       "<Figure size 2200x800 with 2 Axes>"
      ]
     },
     "metadata": {},
     "output_type": "display_data"
    }
   ],
   "source": [
    "# boxplot showing 'video_download_count' distributions for 'author_ban_status' comparing video with claims versus opinions\n",
    "\n",
    "fig, ax = plt.subplots(1,2, figsize=(22,8))\n",
    "\n",
    "sns.despine()\n",
    "sns.boxplot(data=data, x='video_download_count', y='author_ban_status', hue='claim_status', orient ='h', ax= ax[0])\n",
    "ax[0].invert_yaxis()\n",
    "ax[0].set_title('Video download count by author ban status', fontsize='14')\n",
    "ax[0].xaxis.set_major_formatter(FuncFormatter(large_value_formatter))\n",
    "\n",
    "# histogram showing distribution of 'video_view_count', comparing videos claims versus opinions\n",
    "\n",
    "sns.histplot(data=data, x='video_download_count', hue='claim_status', multiple='dodge', shrink=2, ax=ax[1])\n",
    "ax[1].set_title('Video download count histogram', fontsize='14')\n",
    "ax[1].xaxis.set_major_formatter(FuncFormatter(large_value_formatter))\n",
    "\n",
    "plt.show()"
   ]
  },
  {
   "cell_type": "code",
   "execution_count": 17,
   "id": "f0ac5b0f",
   "metadata": {},
   "outputs": [
    {
     "data": {
      "text/html": [
       "<div>\n",
       "<style scoped>\n",
       "    .dataframe tbody tr th:only-of-type {\n",
       "        vertical-align: middle;\n",
       "    }\n",
       "\n",
       "    .dataframe tbody tr th {\n",
       "        vertical-align: top;\n",
       "    }\n",
       "\n",
       "    .dataframe thead th {\n",
       "        text-align: right;\n",
       "    }\n",
       "</style>\n",
       "<table border=\"1\" class=\"dataframe\">\n",
       "  <thead>\n",
       "    <tr style=\"text-align: right;\">\n",
       "      <th></th>\n",
       "      <th>median</th>\n",
       "      <th>mean</th>\n",
       "    </tr>\n",
       "    <tr>\n",
       "      <th>claim_status</th>\n",
       "      <th></th>\n",
       "      <th></th>\n",
       "    </tr>\n",
       "  </thead>\n",
       "  <tbody>\n",
       "    <tr>\n",
       "      <th>claim</th>\n",
       "      <td>1139.5000</td>\n",
       "      <td>2070.9522</td>\n",
       "    </tr>\n",
       "    <tr>\n",
       "      <th>opinion</th>\n",
       "      <td>7.0000</td>\n",
       "      <td>13.6773</td>\n",
       "    </tr>\n",
       "  </tbody>\n",
       "</table>\n",
       "</div>"
      ],
      "text/plain": [
       "                median      mean\n",
       "claim_status                    \n",
       "claim        1139.5000 2070.9522\n",
       "opinion         7.0000   13.6773"
      ]
     },
     "execution_count": 17,
     "metadata": {},
     "output_type": "execute_result"
    }
   ],
   "source": [
    "# mean and median video download counts in videos with claims and videos with opinions\n",
    "\n",
    "data.groupby('claim_status')['video_download_count'].agg({'mean','median'})"
   ]
  },
  {
   "cell_type": "markdown",
   "id": "697e51c7",
   "metadata": {},
   "source": [
    "> Based on boxplot and histogram, the video download counts are relatively higher in claim videos (median of around 1100 downloads) compared to those in opinion videos (median of around 7 downloads), suggesting that `video_download_count` may be a predictor of video claim status. This trend is also observed in all three classes in author ban status."
   ]
  },
  {
   "cell_type": "code",
   "execution_count": 18,
   "id": "e8e91eb0",
   "metadata": {},
   "outputs": [
    {
     "data": {
      "image/png": "[encoded data removed]",
      "text/plain": [
       "<Figure size 2200x800 with 2 Axes>"
      ]
     },
     "metadata": {},
     "output_type": "display_data"
    }
   ],
   "source": [
    "# boxplot showing 'video_comment_count' distributions for 'author_ban_status' comparing video with claims versus opinions\n",
    "\n",
    "fig, ax = plt.subplots(1,2, figsize=(22,8))\n",
    "\n",
    "sns.despine()\n",
    "sns.boxplot(data=data, x='video_comment_count', y='author_ban_status', hue='claim_status', orient ='h', ax= ax[0])\n",
    "ax[0].invert_yaxis()\n",
    "ax[0].set_title('Video comment count by author ban status', fontsize='14')\n",
    "ax[0].xaxis.set_major_formatter(FuncFormatter(large_value_formatter))\n",
    "\n",
    "# histogram showing distribution of 'video_view_count', comparing videos claims versus opinions\n",
    "\n",
    "sns.histplot(data=data, x='video_comment_count', hue='claim_status', multiple='dodge', shrink=2, ax=ax[1])\n",
    "ax[1].set_title('Video comment count histogram', fontsize='14')\n",
    "ax[1].xaxis.set_major_formatter(FuncFormatter(large_value_formatter))\n",
    "\n",
    "plt.show()"
   ]
  },
  {
   "cell_type": "code",
   "execution_count": 19,
   "id": "b846fd73",
   "metadata": {},
   "outputs": [
    {
     "data": {
      "text/html": [
       "<div>\n",
       "<style scoped>\n",
       "    .dataframe tbody tr th:only-of-type {\n",
       "        vertical-align: middle;\n",
       "    }\n",
       "\n",
       "    .dataframe tbody tr th {\n",
       "        vertical-align: top;\n",
       "    }\n",
       "\n",
       "    .dataframe thead th {\n",
       "        text-align: right;\n",
       "    }\n",
       "</style>\n",
       "<table border=\"1\" class=\"dataframe\">\n",
       "  <thead>\n",
       "    <tr style=\"text-align: right;\">\n",
       "      <th></th>\n",
       "      <th>median</th>\n",
       "      <th>mean</th>\n",
       "    </tr>\n",
       "    <tr>\n",
       "      <th>claim_status</th>\n",
       "      <th></th>\n",
       "      <th></th>\n",
       "    </tr>\n",
       "  </thead>\n",
       "  <tbody>\n",
       "    <tr>\n",
       "      <th>claim</th>\n",
       "      <td>286.0000</td>\n",
       "      <td>691.1649</td>\n",
       "    </tr>\n",
       "    <tr>\n",
       "      <th>opinion</th>\n",
       "      <td>1.0000</td>\n",
       "      <td>2.6974</td>\n",
       "    </tr>\n",
       "  </tbody>\n",
       "</table>\n",
       "</div>"
      ],
      "text/plain": [
       "               median     mean\n",
       "claim_status                  \n",
       "claim        286.0000 691.1649\n",
       "opinion        1.0000   2.6974"
      ]
     },
     "execution_count": 19,
     "metadata": {},
     "output_type": "execute_result"
    }
   ],
   "source": [
    "# mean and median video comment counts in videos with claims and videos with opinions\n",
    "\n",
    "data.groupby('claim_status')['video_comment_count'].agg({'mean','median'})"
   ]
  },
  {
   "cell_type": "markdown",
   "id": "6817f005",
   "metadata": {},
   "source": [
    "> Based on the boxplot and histogram, video comment counts are much higher in claim videos (median of aroound 300 comments) than those in opinion videos (median of 1 comments), suggesting that `video_comment_count` may be a predictor of video claim status. This trend is observed in all three classes of the author ban status."
   ]
  },
  {
   "cell_type": "code",
   "execution_count": 20,
   "id": "e9cd3ece",
   "metadata": {},
   "outputs": [
    {
     "data": {
      "text/plain": [
       "<Figure size 2200x800 with 0 Axes>"
      ]
     },
     "metadata": {},
     "output_type": "display_data"
    },
    {
     "data": {
      "image/png": "[encoded data removed]",
      "text/plain": [
       "<Figure size 1601.12x500 with 3 Axes>"
      ]
     },
     "metadata": {},
     "output_type": "display_data"
    }
   ],
   "source": [
    "# count plots showing number of verified users versus non verified users based on video claim status, comparing across all\n",
    "# three class of author ban status\n",
    "plt.figure(figsize=(22,8))\n",
    "\n",
    "sns.catplot(data=data, x='verified_status', hue='claim_status', col='author_ban_status', kind='count')\n",
    "plt.ylabel('Number of users', fontsize='14')\n",
    "\n",
    "plt.show()"
   ]
  },
  {
   "cell_type": "markdown",
   "id": "802a9b55",
   "metadata": {},
   "source": [
    "> Among three classes of author ban status, there are relatively more active users than those under review or banned users. Within active users, there are more opinion videos than claim videos in both not verified and verified users. \n",
    "\n",
    "> In all three classes of author ban status, the number of not verified users are higher than those in verified users. Interestingly, under review and banned users, who are also not verified, tend to post claim videos more than opinion videos.\n",
    "\n",
    "> Hence, when the user is under review or banned and not verified, the user may be more likely to post claim videos, suggesting that `author_ban_status` and `verified_status` may be predictors of video claim status."
   ]
  },
  {
   "cell_type": "markdown",
   "id": "3d51d9ad",
   "metadata": {
    "jp-MarkdownHeadingCollapsed": true
   },
   "source": [
    "### Insights\n",
    "\n",
    "1. Claim videos tend to receive more views, likes, shares, downloads, and comments compared to opinion videos.\n",
    "2. When users are under review or banned and not verified, users may be more likely to post claim video. <br>\n",
    "\n",
    "Hence, features of the video, user verification status and author ban status may be good predictors of whether a video contains claims or opinions."
   ]
  },
  {
   "cell_type": "markdown",
   "id": "b3932a52",
   "metadata": {},
   "source": [
    "## Construct"
   ]
  },
  {
   "cell_type": "markdown",
   "id": "de93d06e",
   "metadata": {},
   "source": [
    "#### Identify the target variable and type of prediction task\n",
    "\n",
    "Since the goal is to predict whether a video contains claims or opinions, we will use `claim_status` variable as our target variable for building prediction model. Since this variable is a categorical outcome, this task involves classification, specifically binary classification since variable is either 'claim' or 'opinion'."
   ]
  },
  {
   "cell_type": "markdown",
   "id": "d633a09f",
   "metadata": {},
   "source": [
    "#### Identify the types of models most appropriate for this task\n",
    "\n",
    "Since the variable is categorical, we could either build Logistic Regression model or ensemble-based Machine Learning model."
   ]
  },
  {
   "cell_type": "code",
   "execution_count": 21,
   "id": "065047d1",
   "metadata": {},
   "outputs": [
    {
     "data": {
      "text/plain": [
       "claim_status\n",
       "claim     0.5000\n",
       "opinion   0.5000\n",
       "Name: proportion, dtype: float64"
      ]
     },
     "execution_count": 21,
     "metadata": {},
     "output_type": "execute_result"
    }
   ],
   "source": [
    "# check for the class balance in the `claim_status`\n",
    "\n",
    "round(data['claim_status'].value_counts(normalize=True),2)"
   ]
  },
  {
   "cell_type": "markdown",
   "id": "bfd69e69",
   "metadata": {},
   "source": [
    "> We checked for the class balance in the `claim_status` as class imbalance could introduce model's bias in predictions. Since both 'claim' and 'opinion' classes are similar (50% of dataset for both), we do not need to resample the data to balance the classes for this variable."
   ]
  },
  {
   "cell_type": "markdown",
   "id": "0219f259",
   "metadata": {},
   "source": [
    "### Logistic Regression Model"
   ]
  },
  {
   "cell_type": "markdown",
   "id": "41c1f686",
   "metadata": {},
   "source": [
    "Assumptions to be checked:\n",
    "\n",
    "1. Observations are independent of each other (Yes, since each video in the dataset uploaded separately)\n",
    "2. No extreme outliers (We will check for the outliers and replace the those outliers with upper threshold)\n",
    "3. No severe multicollinearity among predictor variables (We will check using heatmap and drop variables that are highly correlated)\n",
    "4. Linear relationship between each predictor variable and the logit of the target variable (We can only check after building the Logistic Regression Model)"
   ]
  },
  {
   "cell_type": "markdown",
   "id": "587bf6cd",
   "metadata": {},
   "source": [
    "#### Feature engineering\n",
    "\n",
    "Extract the length (character count) of each `video_transcription_text` and add this to the dataframe as a new column called `text_length` so that it can be used as a feature in the model."
   ]
  },
  {
   "cell_type": "code",
   "execution_count": 22,
   "id": "6cd8601e",
   "metadata": {},
   "outputs": [
    {
     "data": {
      "text/html": [
       "<div>\n",
       "<style scoped>\n",
       "    .dataframe tbody tr th:only-of-type {\n",
       "        vertical-align: middle;\n",
       "    }\n",
       "\n",
       "    .dataframe tbody tr th {\n",
       "        vertical-align: top;\n",
       "    }\n",
       "\n",
       "    .dataframe thead th {\n",
       "        text-align: right;\n",
       "    }\n",
       "</style>\n",
       "<table border=\"1\" class=\"dataframe\">\n",
       "  <thead>\n",
       "    <tr style=\"text-align: right;\">\n",
       "      <th></th>\n",
       "      <th>#</th>\n",
       "      <th>claim_status</th>\n",
       "      <th>video_id</th>\n",
       "      <th>video_duration_sec</th>\n",
       "      <th>video_transcription_text</th>\n",
       "      <th>verified_status</th>\n",
       "      <th>author_ban_status</th>\n",
       "      <th>video_view_count</th>\n",
       "      <th>video_like_count</th>\n",
       "      <th>video_share_count</th>\n",
       "      <th>video_download_count</th>\n",
       "      <th>video_comment_count</th>\n",
       "      <th>text_length</th>\n",
       "    </tr>\n",
       "  </thead>\n",
       "  <tbody>\n",
       "    <tr>\n",
       "      <th>0</th>\n",
       "      <td>1</td>\n",
       "      <td>claim</td>\n",
       "      <td>7017666017</td>\n",
       "      <td>59</td>\n",
       "      <td>someone shared with me that drone deliveries a...</td>\n",
       "      <td>not verified</td>\n",
       "      <td>under review</td>\n",
       "      <td>343296.0000</td>\n",
       "      <td>19425.0000</td>\n",
       "      <td>241.0000</td>\n",
       "      <td>1.0000</td>\n",
       "      <td>0.0000</td>\n",
       "      <td>97</td>\n",
       "    </tr>\n",
       "    <tr>\n",
       "      <th>1</th>\n",
       "      <td>2</td>\n",
       "      <td>claim</td>\n",
       "      <td>4014381136</td>\n",
       "      <td>32</td>\n",
       "      <td>someone shared with me that there are more mic...</td>\n",
       "      <td>not verified</td>\n",
       "      <td>active</td>\n",
       "      <td>140877.0000</td>\n",
       "      <td>77355.0000</td>\n",
       "      <td>19034.0000</td>\n",
       "      <td>1161.0000</td>\n",
       "      <td>684.0000</td>\n",
       "      <td>107</td>\n",
       "    </tr>\n",
       "    <tr>\n",
       "      <th>2</th>\n",
       "      <td>3</td>\n",
       "      <td>claim</td>\n",
       "      <td>9859838091</td>\n",
       "      <td>31</td>\n",
       "      <td>someone shared with me that american industria...</td>\n",
       "      <td>not verified</td>\n",
       "      <td>active</td>\n",
       "      <td>902185.0000</td>\n",
       "      <td>97690.0000</td>\n",
       "      <td>2858.0000</td>\n",
       "      <td>833.0000</td>\n",
       "      <td>329.0000</td>\n",
       "      <td>137</td>\n",
       "    </tr>\n",
       "  </tbody>\n",
       "</table>\n",
       "</div>"
      ],
      "text/plain": [
       "   # claim_status    video_id  video_duration_sec  \\\n",
       "0  1        claim  7017666017                  59   \n",
       "1  2        claim  4014381136                  32   \n",
       "2  3        claim  9859838091                  31   \n",
       "\n",
       "                            video_transcription_text verified_status  \\\n",
       "0  someone shared with me that drone deliveries a...    not verified   \n",
       "1  someone shared with me that there are more mic...    not verified   \n",
       "2  someone shared with me that american industria...    not verified   \n",
       "\n",
       "  author_ban_status  video_view_count  video_like_count  video_share_count  \\\n",
       "0      under review       343296.0000        19425.0000           241.0000   \n",
       "1            active       140877.0000        77355.0000         19034.0000   \n",
       "2            active       902185.0000        97690.0000          2858.0000   \n",
       "\n",
       "   video_download_count  video_comment_count  text_length  \n",
       "0                1.0000               0.0000           97  \n",
       "1             1161.0000             684.0000          107  \n",
       "2              833.0000             329.0000          137  "
      ]
     },
     "execution_count": 22,
     "metadata": {},
     "output_type": "execute_result"
    }
   ],
   "source": [
    "data['text_length'] = data['video_transcription_text'].str.len()\n",
    "\n",
    "data.head(3)"
   ]
  },
  {
   "cell_type": "markdown",
   "id": "9c97ce6e",
   "metadata": {},
   "source": [
    "#### Checking for outliers"
   ]
  },
  {
   "cell_type": "code",
   "execution_count": 23,
   "id": "acfcf6f8",
   "metadata": {},
   "outputs": [
    {
     "name": "stdout",
     "output_type": "stream",
     "text": [
      "video_duration_sec has no outliers\n"
     ]
    }
   ],
   "source": [
    "# copy 'data' dataframe into df in order to keep the orginial dataset\n",
    "\n",
    "df = data.copy()\n",
    "\n",
    "def check_outliers(col_name:str,df):\n",
    "    ''' \n",
    "    check_outliers function change all the outliers values below lower limit or above upper limit into lower limit\n",
    "    or upper limit values. If a variable has no outliers, it will return that the variable has no outliers.\n",
    "    \n",
    "    col_name : name of the column in string\n",
    "    df : data frame name\n",
    "    '''\n",
    "    percentile25 = df[col_name].quantile(0.25)\n",
    "    percentile75 = df[col_name].quantile(0.75)\n",
    "    \n",
    "    IQR = percentile75 - percentile25\n",
    "    \n",
    "    upper_limit = percentile75 + 1.5*IQR\n",
    "    lower_limit = percentile25 - 1.5*IQR\n",
    "    \n",
    "    if (df[col_name]>upper_limit).any() | (df[col_name]<lower_limit).any():\n",
    "        df.loc[df[col_name]>upper_limit, col_name] = upper_limit\n",
    "        df.loc[df[col_name]<lower_limit, col_name] = lower_limit\n",
    "    else:\n",
    "        print(f'{col_name} has no outliers')\n",
    "        \n",
    "check_outliers('video_duration_sec',df)"
   ]
  },
  {
   "cell_type": "code",
   "execution_count": 24,
   "id": "e9b10ad9",
   "metadata": {},
   "outputs": [
    {
     "name": "stdout",
     "output_type": "stream",
     "text": [
      "video_view_count has no outliers\n"
     ]
    }
   ],
   "source": [
    "# create list of column names to check for the outliers\n",
    "columns =  ['video_view_count','video_like_count','video_share_count','video_download_count','video_comment_count']\n",
    "\n",
    "# create a loop for the columns list that will pass through check_outliers function\n",
    "\n",
    "for col in columns:\n",
    "    check_outliers(col, df)"
   ]
  },
  {
   "cell_type": "code",
   "execution_count": 25,
   "id": "cd69804e",
   "metadata": {},
   "outputs": [
    {
     "data": {
      "text/html": [
       "<div>\n",
       "<style scoped>\n",
       "    .dataframe tbody tr th:only-of-type {\n",
       "        vertical-align: middle;\n",
       "    }\n",
       "\n",
       "    .dataframe tbody tr th {\n",
       "        vertical-align: top;\n",
       "    }\n",
       "\n",
       "    .dataframe thead th {\n",
       "        text-align: right;\n",
       "    }\n",
       "</style>\n",
       "<table border=\"1\" class=\"dataframe\">\n",
       "  <thead>\n",
       "    <tr style=\"text-align: right;\">\n",
       "      <th></th>\n",
       "      <th>#</th>\n",
       "      <th>claim_status</th>\n",
       "      <th>video_id</th>\n",
       "      <th>video_duration_sec</th>\n",
       "      <th>video_transcription_text</th>\n",
       "      <th>verified_status</th>\n",
       "      <th>author_ban_status</th>\n",
       "      <th>video_view_count</th>\n",
       "      <th>video_like_count</th>\n",
       "      <th>video_share_count</th>\n",
       "      <th>video_download_count</th>\n",
       "      <th>video_comment_count</th>\n",
       "      <th>text_length</th>\n",
       "    </tr>\n",
       "  </thead>\n",
       "  <tbody>\n",
       "    <tr>\n",
       "      <th>count</th>\n",
       "      <td>19084.0000</td>\n",
       "      <td>19084</td>\n",
       "      <td>19084.0000</td>\n",
       "      <td>19084.0000</td>\n",
       "      <td>19084</td>\n",
       "      <td>19084</td>\n",
       "      <td>19084</td>\n",
       "      <td>19084.0000</td>\n",
       "      <td>19084.0000</td>\n",
       "      <td>19084.0000</td>\n",
       "      <td>19084.0000</td>\n",
       "      <td>19084.0000</td>\n",
       "      <td>19084.0000</td>\n",
       "    </tr>\n",
       "    <tr>\n",
       "      <th>unique</th>\n",
       "      <td>NaN</td>\n",
       "      <td>2</td>\n",
       "      <td>NaN</td>\n",
       "      <td>NaN</td>\n",
       "      <td>19012</td>\n",
       "      <td>2</td>\n",
       "      <td>3</td>\n",
       "      <td>NaN</td>\n",
       "      <td>NaN</td>\n",
       "      <td>NaN</td>\n",
       "      <td>NaN</td>\n",
       "      <td>NaN</td>\n",
       "      <td>NaN</td>\n",
       "    </tr>\n",
       "    <tr>\n",
       "      <th>top</th>\n",
       "      <td>NaN</td>\n",
       "      <td>claim</td>\n",
       "      <td>NaN</td>\n",
       "      <td>NaN</td>\n",
       "      <td>a friend read  in the media a claim that badmi...</td>\n",
       "      <td>not verified</td>\n",
       "      <td>active</td>\n",
       "      <td>NaN</td>\n",
       "      <td>NaN</td>\n",
       "      <td>NaN</td>\n",
       "      <td>NaN</td>\n",
       "      <td>NaN</td>\n",
       "      <td>NaN</td>\n",
       "    </tr>\n",
       "    <tr>\n",
       "      <th>freq</th>\n",
       "      <td>NaN</td>\n",
       "      <td>9608</td>\n",
       "      <td>NaN</td>\n",
       "      <td>NaN</td>\n",
       "      <td>2</td>\n",
       "      <td>17884</td>\n",
       "      <td>15383</td>\n",
       "      <td>NaN</td>\n",
       "      <td>NaN</td>\n",
       "      <td>NaN</td>\n",
       "      <td>NaN</td>\n",
       "      <td>NaN</td>\n",
       "      <td>NaN</td>\n",
       "    </tr>\n",
       "    <tr>\n",
       "      <th>mean</th>\n",
       "      <td>9542.5000</td>\n",
       "      <td>NaN</td>\n",
       "      <td>5624839917.8735</td>\n",
       "      <td>32.4238</td>\n",
       "      <td>NaN</td>\n",
       "      <td>NaN</td>\n",
       "      <td>NaN</td>\n",
       "      <td>254708.5587</td>\n",
       "      <td>74323.5386</td>\n",
       "      <td>11246.9101</td>\n",
       "      <td>713.4448</td>\n",
       "      <td>181.0235</td>\n",
       "      <td>89.0935</td>\n",
       "    </tr>\n",
       "    <tr>\n",
       "      <th>std</th>\n",
       "      <td>5509.2206</td>\n",
       "      <td>NaN</td>\n",
       "      <td>2537030180.2586</td>\n",
       "      <td>16.2265</td>\n",
       "      <td>NaN</td>\n",
       "      <td>NaN</td>\n",
       "      <td>NaN</td>\n",
       "      <td>322893.2808</td>\n",
       "      <td>107103.5552</td>\n",
       "      <td>16573.5335</td>\n",
       "      <td>1049.8814</td>\n",
       "      <td>272.0848</td>\n",
       "      <td>20.6821</td>\n",
       "    </tr>\n",
       "    <tr>\n",
       "      <th>min</th>\n",
       "      <td>1.0000</td>\n",
       "      <td>NaN</td>\n",
       "      <td>1234959018.0000</td>\n",
       "      <td>5.0000</td>\n",
       "      <td>NaN</td>\n",
       "      <td>NaN</td>\n",
       "      <td>NaN</td>\n",
       "      <td>20.0000</td>\n",
       "      <td>0.0000</td>\n",
       "      <td>0.0000</td>\n",
       "      <td>0.0000</td>\n",
       "      <td>0.0000</td>\n",
       "      <td>31.0000</td>\n",
       "    </tr>\n",
       "    <tr>\n",
       "      <th>25%</th>\n",
       "      <td>4771.7500</td>\n",
       "      <td>NaN</td>\n",
       "      <td>3425100251.2500</td>\n",
       "      <td>18.0000</td>\n",
       "      <td>NaN</td>\n",
       "      <td>NaN</td>\n",
       "      <td>NaN</td>\n",
       "      <td>4942.5000</td>\n",
       "      <td>810.7500</td>\n",
       "      <td>115.0000</td>\n",
       "      <td>7.0000</td>\n",
       "      <td>1.0000</td>\n",
       "      <td>75.0000</td>\n",
       "    </tr>\n",
       "    <tr>\n",
       "      <th>50%</th>\n",
       "      <td>9542.5000</td>\n",
       "      <td>NaN</td>\n",
       "      <td>5609500370.0000</td>\n",
       "      <td>32.0000</td>\n",
       "      <td>NaN</td>\n",
       "      <td>NaN</td>\n",
       "      <td>NaN</td>\n",
       "      <td>9954.5000</td>\n",
       "      <td>3403.5000</td>\n",
       "      <td>717.0000</td>\n",
       "      <td>46.0000</td>\n",
       "      <td>9.0000</td>\n",
       "      <td>87.0000</td>\n",
       "    </tr>\n",
       "    <tr>\n",
       "      <th>75%</th>\n",
       "      <td>14313.2500</td>\n",
       "      <td>NaN</td>\n",
       "      <td>7840823300.5000</td>\n",
       "      <td>47.0000</td>\n",
       "      <td>NaN</td>\n",
       "      <td>NaN</td>\n",
       "      <td>NaN</td>\n",
       "      <td>504327.0000</td>\n",
       "      <td>125020.0000</td>\n",
       "      <td>18222.0000</td>\n",
       "      <td>1156.2500</td>\n",
       "      <td>292.0000</td>\n",
       "      <td>101.0000</td>\n",
       "    </tr>\n",
       "    <tr>\n",
       "      <th>max</th>\n",
       "      <td>19084.0000</td>\n",
       "      <td>NaN</td>\n",
       "      <td>9999873075.0000</td>\n",
       "      <td>60.0000</td>\n",
       "      <td>NaN</td>\n",
       "      <td>NaN</td>\n",
       "      <td>NaN</td>\n",
       "      <td>999817.0000</td>\n",
       "      <td>311333.8750</td>\n",
       "      <td>45382.5000</td>\n",
       "      <td>2880.1250</td>\n",
       "      <td>728.5000</td>\n",
       "      <td>182.0000</td>\n",
       "    </tr>\n",
       "  </tbody>\n",
       "</table>\n",
       "</div>"
      ],
      "text/plain": [
       "                # claim_status        video_id  video_duration_sec  \\\n",
       "count  19084.0000        19084      19084.0000          19084.0000   \n",
       "unique        NaN            2             NaN                 NaN   \n",
       "top           NaN        claim             NaN                 NaN   \n",
       "freq          NaN         9608             NaN                 NaN   \n",
       "mean    9542.5000          NaN 5624839917.8735             32.4238   \n",
       "std     5509.2206          NaN 2537030180.2586             16.2265   \n",
       "min        1.0000          NaN 1234959018.0000              5.0000   \n",
       "25%     4771.7500          NaN 3425100251.2500             18.0000   \n",
       "50%     9542.5000          NaN 5609500370.0000             32.0000   \n",
       "75%    14313.2500          NaN 7840823300.5000             47.0000   \n",
       "max    19084.0000          NaN 9999873075.0000             60.0000   \n",
       "\n",
       "                                 video_transcription_text verified_status  \\\n",
       "count                                               19084           19084   \n",
       "unique                                              19012               2   \n",
       "top     a friend read  in the media a claim that badmi...    not verified   \n",
       "freq                                                    2           17884   \n",
       "mean                                                  NaN             NaN   \n",
       "std                                                   NaN             NaN   \n",
       "min                                                   NaN             NaN   \n",
       "25%                                                   NaN             NaN   \n",
       "50%                                                   NaN             NaN   \n",
       "75%                                                   NaN             NaN   \n",
       "max                                                   NaN             NaN   \n",
       "\n",
       "       author_ban_status  video_view_count  video_like_count  \\\n",
       "count              19084        19084.0000        19084.0000   \n",
       "unique                 3               NaN               NaN   \n",
       "top               active               NaN               NaN   \n",
       "freq               15383               NaN               NaN   \n",
       "mean                 NaN       254708.5587        74323.5386   \n",
       "std                  NaN       322893.2808       107103.5552   \n",
       "min                  NaN           20.0000            0.0000   \n",
       "25%                  NaN         4942.5000          810.7500   \n",
       "50%                  NaN         9954.5000         3403.5000   \n",
       "75%                  NaN       504327.0000       125020.0000   \n",
       "max                  NaN       999817.0000       311333.8750   \n",
       "\n",
       "        video_share_count  video_download_count  video_comment_count  \\\n",
       "count          19084.0000            19084.0000           19084.0000   \n",
       "unique                NaN                   NaN                  NaN   \n",
       "top                   NaN                   NaN                  NaN   \n",
       "freq                  NaN                   NaN                  NaN   \n",
       "mean           11246.9101              713.4448             181.0235   \n",
       "std            16573.5335             1049.8814             272.0848   \n",
       "min                0.0000                0.0000               0.0000   \n",
       "25%              115.0000                7.0000               1.0000   \n",
       "50%              717.0000               46.0000               9.0000   \n",
       "75%            18222.0000             1156.2500             292.0000   \n",
       "max            45382.5000             2880.1250             728.5000   \n",
       "\n",
       "        text_length  \n",
       "count    19084.0000  \n",
       "unique          NaN  \n",
       "top             NaN  \n",
       "freq            NaN  \n",
       "mean        89.0935  \n",
       "std         20.6821  \n",
       "min         31.0000  \n",
       "25%         75.0000  \n",
       "50%         87.0000  \n",
       "75%        101.0000  \n",
       "max        182.0000  "
      ]
     },
     "execution_count": 25,
     "metadata": {},
     "output_type": "execute_result"
    }
   ],
   "source": [
    "# inspect whether outliers have been corrected\n",
    "\n",
    "df.describe(include='all')"
   ]
  },
  {
   "cell_type": "markdown",
   "id": "2a3238c5",
   "metadata": {},
   "source": [
    "#### Checking for multicollinearity"
   ]
  },
  {
   "cell_type": "code",
   "execution_count": 26,
   "id": "e574b999",
   "metadata": {},
   "outputs": [
    {
     "data": {
      "image/png": "[encoded data removed]",
      "text/plain": [
       "<Figure size 1600x900 with 2 Axes>"
      ]
     },
     "metadata": {},
     "output_type": "display_data"
    }
   ],
   "source": [
    "# A heatmap to visualize how correlated variables are\n",
    "\n",
    "plt.figure(figsize=(16,9))\n",
    "\n",
    "heatmap = sns.heatmap(df[['video_duration_sec','video_view_count','video_like_count','video_share_count','video_download_count','video_comment_count','text_length']].corr(), vmin=-1, vmax=1, \n",
    "                      annot=True, cmap=sns.color_palette('vlag', as_cmap=True))\n",
    "\n",
    "heatmap.set_title('Correlation Heatmap', fontdict={'fontsize':14}, pad=12)\n",
    "\n",
    "plt.show()"
   ]
  },
  {
   "cell_type": "markdown",
   "id": "a8dd8241",
   "metadata": {},
   "source": [
    "> The above heatmap shows that the following pairs of variables are strongly correlated: `video_share_count` vs `video_like_count` and `video_download_count` vs `video_comment_count`. <br>\n",
    "Since logistic regression assumes no severe multicollinearity among the features, we will exclude `video_share_count` and `video_comment_count` from our logistic regression model."
   ]
  },
  {
   "cell_type": "markdown",
   "id": "dc93c28c",
   "metadata": {},
   "source": [
    "#### Encoding variables"
   ]
  },
  {
   "cell_type": "code",
   "execution_count": 27,
   "id": "ba72ce4b",
   "metadata": {},
   "outputs": [
    {
     "data": {
      "text/plain": [
       "#                             int64\n",
       "claim_status                 object\n",
       "video_id                      int64\n",
       "video_duration_sec            int64\n",
       "video_transcription_text     object\n",
       "verified_status              object\n",
       "author_ban_status            object\n",
       "video_view_count            float64\n",
       "video_like_count            float64\n",
       "video_share_count           float64\n",
       "video_download_count        float64\n",
       "video_comment_count         float64\n",
       "text_length                   int64\n",
       "dtype: object"
      ]
     },
     "execution_count": 27,
     "metadata": {},
     "output_type": "execute_result"
    }
   ],
   "source": [
    "# check data type\n",
    "\n",
    "df.dtypes"
   ]
  },
  {
   "cell_type": "code",
   "execution_count": 28,
   "id": "9e394840",
   "metadata": {},
   "outputs": [
    {
     "data": {
      "text/html": [
       "<div>\n",
       "<style scoped>\n",
       "    .dataframe tbody tr th:only-of-type {\n",
       "        vertical-align: middle;\n",
       "    }\n",
       "\n",
       "    .dataframe tbody tr th {\n",
       "        vertical-align: top;\n",
       "    }\n",
       "\n",
       "    .dataframe thead th {\n",
       "        text-align: right;\n",
       "    }\n",
       "</style>\n",
       "<table border=\"1\" class=\"dataframe\">\n",
       "  <thead>\n",
       "    <tr style=\"text-align: right;\">\n",
       "      <th></th>\n",
       "      <th>#</th>\n",
       "      <th>claim_status</th>\n",
       "      <th>video_id</th>\n",
       "      <th>video_duration_sec</th>\n",
       "      <th>video_transcription_text</th>\n",
       "      <th>video_view_count</th>\n",
       "      <th>video_like_count</th>\n",
       "      <th>video_share_count</th>\n",
       "      <th>video_download_count</th>\n",
       "      <th>video_comment_count</th>\n",
       "      <th>text_length</th>\n",
       "      <th>claim_status2</th>\n",
       "      <th>verified_status_verified</th>\n",
       "      <th>author_ban_status_banned</th>\n",
       "      <th>author_ban_status_under review</th>\n",
       "    </tr>\n",
       "  </thead>\n",
       "  <tbody>\n",
       "    <tr>\n",
       "      <th>0</th>\n",
       "      <td>1</td>\n",
       "      <td>claim</td>\n",
       "      <td>7017666017</td>\n",
       "      <td>59</td>\n",
       "      <td>someone shared with me that drone deliveries a...</td>\n",
       "      <td>343296.0000</td>\n",
       "      <td>19425.0000</td>\n",
       "      <td>241.0000</td>\n",
       "      <td>1.0000</td>\n",
       "      <td>0.0000</td>\n",
       "      <td>97</td>\n",
       "      <td>1</td>\n",
       "      <td>False</td>\n",
       "      <td>False</td>\n",
       "      <td>True</td>\n",
       "    </tr>\n",
       "    <tr>\n",
       "      <th>1</th>\n",
       "      <td>2</td>\n",
       "      <td>claim</td>\n",
       "      <td>4014381136</td>\n",
       "      <td>32</td>\n",
       "      <td>someone shared with me that there are more mic...</td>\n",
       "      <td>140877.0000</td>\n",
       "      <td>77355.0000</td>\n",
       "      <td>19034.0000</td>\n",
       "      <td>1161.0000</td>\n",
       "      <td>684.0000</td>\n",
       "      <td>107</td>\n",
       "      <td>1</td>\n",
       "      <td>False</td>\n",
       "      <td>False</td>\n",
       "      <td>False</td>\n",
       "    </tr>\n",
       "    <tr>\n",
       "      <th>2</th>\n",
       "      <td>3</td>\n",
       "      <td>claim</td>\n",
       "      <td>9859838091</td>\n",
       "      <td>31</td>\n",
       "      <td>someone shared with me that american industria...</td>\n",
       "      <td>902185.0000</td>\n",
       "      <td>97690.0000</td>\n",
       "      <td>2858.0000</td>\n",
       "      <td>833.0000</td>\n",
       "      <td>329.0000</td>\n",
       "      <td>137</td>\n",
       "      <td>1</td>\n",
       "      <td>False</td>\n",
       "      <td>False</td>\n",
       "      <td>False</td>\n",
       "    </tr>\n",
       "  </tbody>\n",
       "</table>\n",
       "</div>"
      ],
      "text/plain": [
       "   # claim_status    video_id  video_duration_sec  \\\n",
       "0  1        claim  7017666017                  59   \n",
       "1  2        claim  4014381136                  32   \n",
       "2  3        claim  9859838091                  31   \n",
       "\n",
       "                            video_transcription_text  video_view_count  \\\n",
       "0  someone shared with me that drone deliveries a...       343296.0000   \n",
       "1  someone shared with me that there are more mic...       140877.0000   \n",
       "2  someone shared with me that american industria...       902185.0000   \n",
       "\n",
       "   video_like_count  video_share_count  video_download_count  \\\n",
       "0        19425.0000           241.0000                1.0000   \n",
       "1        77355.0000         19034.0000             1161.0000   \n",
       "2        97690.0000          2858.0000              833.0000   \n",
       "\n",
       "   video_comment_count  text_length  claim_status2  verified_status_verified  \\\n",
       "0               0.0000           97              1                     False   \n",
       "1             684.0000          107              1                     False   \n",
       "2             329.0000          137              1                     False   \n",
       "\n",
       "   author_ban_status_banned  author_ban_status_under review  \n",
       "0                     False                            True  \n",
       "1                     False                           False  \n",
       "2                     False                           False  "
      ]
     },
     "execution_count": 28,
     "metadata": {},
     "output_type": "execute_result"
    }
   ],
   "source": [
    "# encode target variable\n",
    "\n",
    "df['claim_status2'] = df['claim_status'].map({'claim':1, 'opinion':0})\n",
    "\n",
    "# Dummy encode 'verified_status' and 'author_ban_status'\n",
    "\n",
    "df = pd.get_dummies(df, columns=['verified_status','author_ban_status'], drop_first=True)\n",
    "\n",
    "df.head(3)"
   ]
  },
  {
   "cell_type": "markdown",
   "id": "e9e7ad29",
   "metadata": {},
   "source": [
    "#### Split the data"
   ]
  },
  {
   "cell_type": "code",
   "execution_count": 29,
   "id": "cb892296",
   "metadata": {},
   "outputs": [],
   "source": [
    "# Isolate target variable\n",
    "\n",
    "y = df['claim_status2']"
   ]
  },
  {
   "cell_type": "code",
   "execution_count": 30,
   "id": "cddb4f40",
   "metadata": {},
   "outputs": [
    {
     "data": {
      "text/html": [
       "<div>\n",
       "<style scoped>\n",
       "    .dataframe tbody tr th:only-of-type {\n",
       "        vertical-align: middle;\n",
       "    }\n",
       "\n",
       "    .dataframe tbody tr th {\n",
       "        vertical-align: top;\n",
       "    }\n",
       "\n",
       "    .dataframe thead th {\n",
       "        text-align: right;\n",
       "    }\n",
       "</style>\n",
       "<table border=\"1\" class=\"dataframe\">\n",
       "  <thead>\n",
       "    <tr style=\"text-align: right;\">\n",
       "      <th></th>\n",
       "      <th>video_duration_sec</th>\n",
       "      <th>video_view_count</th>\n",
       "      <th>video_like_count</th>\n",
       "      <th>video_download_count</th>\n",
       "      <th>text_length</th>\n",
       "      <th>verified_status_verified</th>\n",
       "      <th>author_ban_status_banned</th>\n",
       "      <th>author_ban_status_under review</th>\n",
       "    </tr>\n",
       "  </thead>\n",
       "  <tbody>\n",
       "    <tr>\n",
       "      <th>0</th>\n",
       "      <td>59</td>\n",
       "      <td>343296.0000</td>\n",
       "      <td>19425.0000</td>\n",
       "      <td>1.0000</td>\n",
       "      <td>97</td>\n",
       "      <td>False</td>\n",
       "      <td>False</td>\n",
       "      <td>True</td>\n",
       "    </tr>\n",
       "    <tr>\n",
       "      <th>1</th>\n",
       "      <td>32</td>\n",
       "      <td>140877.0000</td>\n",
       "      <td>77355.0000</td>\n",
       "      <td>1161.0000</td>\n",
       "      <td>107</td>\n",
       "      <td>False</td>\n",
       "      <td>False</td>\n",
       "      <td>False</td>\n",
       "    </tr>\n",
       "    <tr>\n",
       "      <th>2</th>\n",
       "      <td>31</td>\n",
       "      <td>902185.0000</td>\n",
       "      <td>97690.0000</td>\n",
       "      <td>833.0000</td>\n",
       "      <td>137</td>\n",
       "      <td>False</td>\n",
       "      <td>False</td>\n",
       "      <td>False</td>\n",
       "    </tr>\n",
       "  </tbody>\n",
       "</table>\n",
       "</div>"
      ],
      "text/plain": [
       "   video_duration_sec  video_view_count  video_like_count  \\\n",
       "0                  59       343296.0000        19425.0000   \n",
       "1                  32       140877.0000        77355.0000   \n",
       "2                  31       902185.0000        97690.0000   \n",
       "\n",
       "   video_download_count  text_length  verified_status_verified  \\\n",
       "0                1.0000           97                     False   \n",
       "1             1161.0000          107                     False   \n",
       "2              833.0000          137                     False   \n",
       "\n",
       "   author_ban_status_banned  author_ban_status_under review  \n",
       "0                     False                            True  \n",
       "1                     False                           False  \n",
       "2                     False                           False  "
      ]
     },
     "execution_count": 30,
     "metadata": {},
     "output_type": "execute_result"
    }
   ],
   "source": [
    "# Isolate features to be included in the model\n",
    "\n",
    "X = df.drop(['#','claim_status','claim_status2','video_id','video_transcription_text',\n",
    "             'video_share_count','video_comment_count'], axis=1)\n",
    "\n",
    "X.head(3)"
   ]
  },
  {
   "cell_type": "code",
   "execution_count": 31,
   "id": "3a8de517",
   "metadata": {},
   "outputs": [
    {
     "data": {
      "text/plain": [
       "((15267, 8), (3817, 8), (15267,), (3817,))"
      ]
     },
     "execution_count": 31,
     "metadata": {},
     "output_type": "execute_result"
    }
   ],
   "source": [
    "# split the X and y into training and test dataset\n",
    "\n",
    "X_train, X_test, y_train, y_test = train_test_split(X, y, random_state=42, test_size=0.2, stratify=y)\n",
    "\n",
    "# inspect whether X and y are split into correct proportions\n",
    "\n",
    "X_train.shape, X_test.shape, y_train.shape, y_test.shape"
   ]
  },
  {
   "cell_type": "code",
   "execution_count": 32,
   "id": "64ea09c0",
   "metadata": {},
   "outputs": [],
   "source": [
    "# Construct a logistic regression model and fit it to the training dataset\n",
    "\n",
    "log_reg = LogisticRegression(random_state=42, max_iter=500).fit(X_train, y_train)"
   ]
  },
  {
   "cell_type": "code",
   "execution_count": 33,
   "id": "4dc93f6b",
   "metadata": {},
   "outputs": [
    {
     "data": {
      "text/plain": [
       "array([1, 0, 1, ..., 0, 0, 0])"
      ]
     },
     "execution_count": 33,
     "metadata": {},
     "output_type": "execute_result"
    }
   ],
   "source": [
    "# Use the logistic regression model to predict on the test set\n",
    "\n",
    "lg_pred = log_reg.predict(X_test)\n",
    "\n",
    "lg_pred"
   ]
  },
  {
   "cell_type": "markdown",
   "id": "cbcc6b90",
   "metadata": {},
   "source": [
    "#### Visualize logistic regression model results "
   ]
  },
  {
   "cell_type": "code",
   "execution_count": 34,
   "id": "93c7c6a5",
   "metadata": {},
   "outputs": [
    {
     "data": {
      "image/png": "[encoded data removed]",
      "text/plain": [
       "<Figure size 640x480 with 2 Axes>"
      ]
     },
     "metadata": {},
     "output_type": "display_data"
    }
   ],
   "source": [
    "# compute values for the confusion matrix\n",
    "\n",
    "cm = confusion_matrix(y_test, lg_pred, labels=log_reg.classes_)\n",
    "\n",
    "# Create display of confusion matrix\n",
    "\n",
    "disp = ConfusionMatrixDisplay(confusion_matrix=cm, display_labels=['opinion','claim'])\n",
    "\n",
    "# Plot confusion matrix\n",
    "\n",
    "disp.plot(values_format='')\n",
    "\n",
    "# Display plot \n",
    "\n",
    "plt.show()"
   ]
  },
  {
   "cell_type": "markdown",
   "id": "e055af7b",
   "metadata": {},
   "source": [
    "The upper-left quadrant displays the number of true negatives: the number of videos with opinions that the model accurately classified as so. \n",
    "\n",
    "The upper-right quadrant displays the number of false positives: the number of videos with opinions that the model misclassified as videos with claims.\n",
    "\n",
    "The lower-left quadrant displays the number of false negatives: the number of videos with claims that the model misclassified as videos with opinions.\n",
    "\n",
    "The lower-right quadrant displays the number of true negatives: the number of videos with claims the model accurately classified as so.\n",
    "\n",
    "A perfect model would yield all true negatives and true positives, and no false negatives or false positives."
   ]
  },
  {
   "cell_type": "code",
   "execution_count": 35,
   "id": "c9ff6a62",
   "metadata": {},
   "outputs": [
    {
     "data": {
      "text/html": [
       "<div>\n",
       "<style scoped>\n",
       "    .dataframe tbody tr th:only-of-type {\n",
       "        vertical-align: middle;\n",
       "    }\n",
       "\n",
       "    .dataframe tbody tr th {\n",
       "        vertical-align: top;\n",
       "    }\n",
       "\n",
       "    .dataframe thead th {\n",
       "        text-align: right;\n",
       "    }\n",
       "</style>\n",
       "<table border=\"1\" class=\"dataframe\">\n",
       "  <thead>\n",
       "    <tr style=\"text-align: right;\">\n",
       "      <th></th>\n",
       "      <th>Model</th>\n",
       "      <th>Accuracy</th>\n",
       "      <th>F1</th>\n",
       "      <th>Precision</th>\n",
       "      <th>Recall</th>\n",
       "    </tr>\n",
       "  </thead>\n",
       "  <tbody>\n",
       "    <tr>\n",
       "      <th>0</th>\n",
       "      <td>Logistic Reg</td>\n",
       "      <td>0.9937</td>\n",
       "      <td>0.9937</td>\n",
       "      <td>1.0000</td>\n",
       "      <td>0.9875</td>\n",
       "    </tr>\n",
       "  </tbody>\n",
       "</table>\n",
       "</div>"
      ],
      "text/plain": [
       "          Model  Accuracy     F1  Precision  Recall\n",
       "0  Logistic Reg    0.9937 0.9937     1.0000  0.9875"
      ]
     },
     "execution_count": 35,
     "metadata": {},
     "output_type": "execute_result"
    }
   ],
   "source": [
    "# Create a classification report for the logistic regression model\n",
    "\n",
    "result_table = pd.DataFrame({'Model':['Logistic Reg'],\n",
    "                            'Accuracy': [accuracy_score(y_test,lg_pred)],\n",
    "                            'F1':[f1_score(y_test, lg_pred)],\n",
    "                            'Precision':[precision_score(y_test, lg_pred)],\n",
    "                            'Recall':[recall_score(y_test, lg_pred)],\n",
    "                            })\n",
    "\n",
    "result_table"
   ]
  },
  {
   "cell_type": "markdown",
   "id": "6a2b9873",
   "metadata": {},
   "source": [
    "The table shows that logistic regression model achieved an accuracy of 99.37%, suggesting that the model is able to accurately classify 99.37% of the uploaded videos as either containing opinions or claims. The model is able to achieve a precision of 100%, meaning that 100% of all the model classification of claim videos are indeed videos containing claims. The model is also able to identify 98.75% of claim videos in the test set as seen in the recall score. This high recall score is essential as we want our model to identify as many videos with claims as claim videos so that these videos can be further reviewed by human moderators."
   ]
  },
  {
   "cell_type": "markdown",
   "id": "6bfdadef",
   "metadata": {},
   "source": [
    "#### Interpret model coefficients"
   ]
  },
  {
   "cell_type": "code",
   "execution_count": 36,
   "id": "1044c433",
   "metadata": {},
   "outputs": [
    {
     "data": {
      "text/html": [
       "<div>\n",
       "<style scoped>\n",
       "    .dataframe tbody tr th:only-of-type {\n",
       "        vertical-align: middle;\n",
       "    }\n",
       "\n",
       "    .dataframe tbody tr th {\n",
       "        vertical-align: top;\n",
       "    }\n",
       "\n",
       "    .dataframe thead th {\n",
       "        text-align: right;\n",
       "    }\n",
       "</style>\n",
       "<table border=\"1\" class=\"dataframe\">\n",
       "  <thead>\n",
       "    <tr style=\"text-align: right;\">\n",
       "      <th></th>\n",
       "      <th>Feature Name</th>\n",
       "      <th>Model Coefficient</th>\n",
       "      <th>Odd Ratio of Coefficient</th>\n",
       "    </tr>\n",
       "  </thead>\n",
       "  <tbody>\n",
       "    <tr>\n",
       "      <th>6</th>\n",
       "      <td>author_ban_status_banned</td>\n",
       "      <td>1.1803</td>\n",
       "      <td>3.2555</td>\n",
       "    </tr>\n",
       "    <tr>\n",
       "      <th>7</th>\n",
       "      <td>author_ban_status_under review</td>\n",
       "      <td>0.7497</td>\n",
       "      <td>2.1163</td>\n",
       "    </tr>\n",
       "    <tr>\n",
       "      <th>4</th>\n",
       "      <td>text_length</td>\n",
       "      <td>0.0252</td>\n",
       "      <td>1.0255</td>\n",
       "    </tr>\n",
       "    <tr>\n",
       "      <th>0</th>\n",
       "      <td>video_duration_sec</td>\n",
       "      <td>0.0132</td>\n",
       "      <td>1.0132</td>\n",
       "    </tr>\n",
       "    <tr>\n",
       "      <th>2</th>\n",
       "      <td>video_like_count</td>\n",
       "      <td>0.0005</td>\n",
       "      <td>1.0005</td>\n",
       "    </tr>\n",
       "    <tr>\n",
       "      <th>1</th>\n",
       "      <td>video_view_count</td>\n",
       "      <td>0.0004</td>\n",
       "      <td>1.0004</td>\n",
       "    </tr>\n",
       "    <tr>\n",
       "      <th>3</th>\n",
       "      <td>video_download_count</td>\n",
       "      <td>-0.0015</td>\n",
       "      <td>0.9985</td>\n",
       "    </tr>\n",
       "    <tr>\n",
       "      <th>5</th>\n",
       "      <td>verified_status_verified</td>\n",
       "      <td>-2.9533</td>\n",
       "      <td>0.0522</td>\n",
       "    </tr>\n",
       "  </tbody>\n",
       "</table>\n",
       "</div>"
      ],
      "text/plain": [
       "                     Feature Name  Model Coefficient  Odd Ratio of Coefficient\n",
       "6        author_ban_status_banned             1.1803                    3.2555\n",
       "7  author_ban_status_under review             0.7497                    2.1163\n",
       "4                     text_length             0.0252                    1.0255\n",
       "0              video_duration_sec             0.0132                    1.0132\n",
       "2                video_like_count             0.0005                    1.0005\n",
       "1                video_view_count             0.0004                    1.0004\n",
       "3            video_download_count            -0.0015                    0.9985\n",
       "5        verified_status_verified            -2.9533                    0.0522"
      ]
     },
     "execution_count": 36,
     "metadata": {},
     "output_type": "execute_result"
    }
   ],
   "source": [
    "# Get the feature names from the model and model coefficients (which represent log_odds ratios)\n",
    "# Place into a DataFrame for readability\n",
    "\n",
    "lg_coefs = pd.DataFrame(data={'Feature Name':log_reg.feature_names_in_,'Model Coefficient': log_reg.coef_[0]})\n",
    "\n",
    "lg_coefs['Odd Ratio of Coefficient'] = np.exp(lg_coefs['Model Coefficient'])\n",
    "\n",
    "lg_coefs.sort_values(by='Odd Ratio of Coefficient', ascending=False)"
   ]
  },
  {
   "cell_type": "markdown",
   "id": "68703b3b",
   "metadata": {},
   "source": [
    "Based on the table above, it seems that `author_ban_status` and `verified_status` have most influence on the likelihood of video containing claims. The likelihood of video containing claims increases when the user is banned or under review compared to active user, while the likelihood decreases when the user is verified. Hence, when the user is not verified and either banned or under review, the likelihood of video containing claims increases."
   ]
  },
  {
   "cell_type": "markdown",
   "id": "307f427a",
   "metadata": {},
   "source": [
    "### Ensemble Learning-based Models"
   ]
  },
  {
   "cell_type": "markdown",
   "id": "d6033e80",
   "metadata": {},
   "source": [
    "#### Tokenize text column\n",
    "\n",
    "The feature `video_transcription_text` is text-based. It is not a categorical variable, since it does not have a fixed number of possible values. One way to extract numerical features from it is through a bag-of-words algorithm using `CountVectorizer` that works by splitting text into n-grams, which are groups of n consecutive words."
   ]
  },
  {
   "cell_type": "code",
   "execution_count": 37,
   "id": "7b3bbb56",
   "metadata": {},
   "outputs": [
    {
     "data": {
      "text/html": [
       "<style>#sk-container-id-1 {color: black;background-color: white;}#sk-container-id-1 pre{padding: 0;}#sk-container-id-1 div.sk-toggleable {background-color: white;}#sk-container-id-1 label.sk-toggleable__label {cursor: pointer;display: block;width: 100%;margin-bottom: 0;padding: 0.3em;box-sizing: border-box;text-align: center;}#sk-container-id-1 label.sk-toggleable__label-arrow:before {content: \"▸\";float: left;margin-right: 0.25em;color: #696969;}#sk-container-id-1 label.sk-toggleable__label-arrow:hover:before {color: black;}#sk-container-id-1 div.sk-estimator:hover label.sk-toggleable__label-arrow:before {color: black;}#sk-container-id-1 div.sk-toggleable__content {max-height: 0;max-width: 0;overflow: hidden;text-align: left;background-color: #f0f8ff;}#sk-container-id-1 div.sk-toggleable__content pre {margin: 0.2em;color: black;border-radius: 0.25em;background-color: #f0f8ff;}#sk-container-id-1 input.sk-toggleable__control:checked~div.sk-toggleable__content {max-height: 200px;max-width: 100%;overflow: auto;}#sk-container-id-1 input.sk-toggleable__control:checked~label.sk-toggleable__label-arrow:before {content: \"▾\";}#sk-container-id-1 div.sk-estimator input.sk-toggleable__control:checked~label.sk-toggleable__label {background-color: #d4ebff;}#sk-container-id-1 div.sk-label input.sk-toggleable__control:checked~label.sk-toggleable__label {background-color: #d4ebff;}#sk-container-id-1 input.sk-hidden--visually {border: 0;clip: rect(1px 1px 1px 1px);clip: rect(1px, 1px, 1px, 1px);height: 1px;margin: -1px;overflow: hidden;padding: 0;position: absolute;width: 1px;}#sk-container-id-1 div.sk-estimator {font-family: monospace;background-color: #f0f8ff;border: 1px dotted black;border-radius: 0.25em;box-sizing: border-box;margin-bottom: 0.5em;}#sk-container-id-1 div.sk-estimator:hover {background-color: #d4ebff;}#sk-container-id-1 div.sk-parallel-item::after {content: \"\";width: 100%;border-bottom: 1px solid gray;flex-grow: 1;}#sk-container-id-1 div.sk-label:hover label.sk-toggleable__label {background-color: #d4ebff;}#sk-container-id-1 div.sk-serial::before {content: \"\";position: absolute;border-left: 1px solid gray;box-sizing: border-box;top: 0;bottom: 0;left: 50%;z-index: 0;}#sk-container-id-1 div.sk-serial {display: flex;flex-direction: column;align-items: center;background-color: white;padding-right: 0.2em;padding-left: 0.2em;position: relative;}#sk-container-id-1 div.sk-item {position: relative;z-index: 1;}#sk-container-id-1 div.sk-parallel {display: flex;align-items: stretch;justify-content: center;background-color: white;position: relative;}#sk-container-id-1 div.sk-item::before, #sk-container-id-1 div.sk-parallel-item::before {content: \"\";position: absolute;border-left: 1px solid gray;box-sizing: border-box;top: 0;bottom: 0;left: 50%;z-index: -1;}#sk-container-id-1 div.sk-parallel-item {display: flex;flex-direction: column;z-index: 1;position: relative;background-color: white;}#sk-container-id-1 div.sk-parallel-item:first-child::after {align-self: flex-end;width: 50%;}#sk-container-id-1 div.sk-parallel-item:last-child::after {align-self: flex-start;width: 50%;}#sk-container-id-1 div.sk-parallel-item:only-child::after {width: 0;}#sk-container-id-1 div.sk-dashed-wrapped {border: 1px dashed gray;margin: 0 0.4em 0.5em 0.4em;box-sizing: border-box;padding-bottom: 0.4em;background-color: white;}#sk-container-id-1 div.sk-label label {font-family: monospace;font-weight: bold;display: inline-block;line-height: 1.2em;}#sk-container-id-1 div.sk-label-container {text-align: center;}#sk-container-id-1 div.sk-container {/* jupyter's `normalize.less` sets `[hidden] { display: none; }` but bootstrap.min.css set `[hidden] { display: none !important; }` so we also need the `!important` here to be able to override the default hidden behavior on the sphinx rendered scikit-learn.org. See: https://github.com/scikit-learn/scikit-learn/issues/21755 */display: inline-block !important;position: relative;}#sk-container-id-1 div.sk-text-repr-fallback {display: none;}</style><div id=\"sk-container-id-1\" class=\"sk-top-container\"><div class=\"sk-text-repr-fallback\"><pre>CountVectorizer(max_features=15, ngram_range=(2, 3), stop_words=&#x27;english&#x27;)</pre><b>In a Jupyter environment, please rerun this cell to show the HTML representation or trust the notebook. <br />On GitHub, the HTML representation is unable to render, please try loading this page with nbviewer.org.</b></div><div class=\"sk-container\" hidden><div class=\"sk-item\"><div class=\"sk-estimator sk-toggleable\"><input class=\"sk-toggleable__control sk-hidden--visually\" id=\"sk-estimator-id-1\" type=\"checkbox\" checked><label for=\"sk-estimator-id-1\" class=\"sk-toggleable__label sk-toggleable__label-arrow\">CountVectorizer</label><div class=\"sk-toggleable__content\"><pre>CountVectorizer(max_features=15, ngram_range=(2, 3), stop_words=&#x27;english&#x27;)</pre></div></div></div></div></div>"
      ],
      "text/plain": [
       "CountVectorizer(max_features=15, ngram_range=(2, 3), stop_words='english')"
      ]
     },
     "execution_count": 37,
     "metadata": {},
     "output_type": "execute_result"
    }
   ],
   "source": [
    "# set up a `CountVectorizer` object, which converts a collection of text to a matrix of token counts\n",
    "\n",
    "count_vec = CountVectorizer(ngram_range=(2,3),\n",
    "                            max_features=15,\n",
    "                            stop_words='english')\n",
    "\n",
    "count_vec"
   ]
  },
  {
   "cell_type": "code",
   "execution_count": 38,
   "id": "c807ec6a",
   "metadata": {},
   "outputs": [
    {
     "data": {
      "text/plain": [
       "(19084, 15)"
      ]
     },
     "execution_count": 38,
     "metadata": {},
     "output_type": "execute_result"
    }
   ],
   "source": [
    "# Extract numerical features from 'video_transcription_text' in the data \n",
    "\n",
    "count_data = count_vec.fit_transform(data['video_transcription_text']).toarray()\n",
    "\n",
    "count_data.shape"
   ]
  },
  {
   "cell_type": "code",
   "execution_count": 39,
   "id": "05eddabf",
   "metadata": {},
   "outputs": [
    {
     "data": {
      "text/html": [
       "<div>\n",
       "<style scoped>\n",
       "    .dataframe tbody tr th:only-of-type {\n",
       "        vertical-align: middle;\n",
       "    }\n",
       "\n",
       "    .dataframe tbody tr th {\n",
       "        vertical-align: top;\n",
       "    }\n",
       "\n",
       "    .dataframe thead th {\n",
       "        text-align: right;\n",
       "    }\n",
       "</style>\n",
       "<table border=\"1\" class=\"dataframe\">\n",
       "  <thead>\n",
       "    <tr style=\"text-align: right;\">\n",
       "      <th></th>\n",
       "      <th>colleague discovered</th>\n",
       "      <th>colleague learned</th>\n",
       "      <th>colleague read</th>\n",
       "      <th>discussion board</th>\n",
       "      <th>friend learned</th>\n",
       "      <th>friend read</th>\n",
       "      <th>internet forum</th>\n",
       "      <th>learned media</th>\n",
       "      <th>learned news</th>\n",
       "      <th>media claim</th>\n",
       "      <th>news claim</th>\n",
       "      <th>point view</th>\n",
       "      <th>read media</th>\n",
       "      <th>social media</th>\n",
       "      <th>willing wager</th>\n",
       "    </tr>\n",
       "  </thead>\n",
       "  <tbody>\n",
       "    <tr>\n",
       "      <th>0</th>\n",
       "      <td>0</td>\n",
       "      <td>0</td>\n",
       "      <td>0</td>\n",
       "      <td>0</td>\n",
       "      <td>0</td>\n",
       "      <td>0</td>\n",
       "      <td>0</td>\n",
       "      <td>0</td>\n",
       "      <td>0</td>\n",
       "      <td>0</td>\n",
       "      <td>0</td>\n",
       "      <td>0</td>\n",
       "      <td>0</td>\n",
       "      <td>0</td>\n",
       "      <td>0</td>\n",
       "    </tr>\n",
       "    <tr>\n",
       "      <th>1</th>\n",
       "      <td>0</td>\n",
       "      <td>0</td>\n",
       "      <td>0</td>\n",
       "      <td>0</td>\n",
       "      <td>0</td>\n",
       "      <td>0</td>\n",
       "      <td>0</td>\n",
       "      <td>0</td>\n",
       "      <td>0</td>\n",
       "      <td>0</td>\n",
       "      <td>0</td>\n",
       "      <td>0</td>\n",
       "      <td>0</td>\n",
       "      <td>0</td>\n",
       "      <td>0</td>\n",
       "    </tr>\n",
       "    <tr>\n",
       "      <th>2</th>\n",
       "      <td>0</td>\n",
       "      <td>0</td>\n",
       "      <td>0</td>\n",
       "      <td>0</td>\n",
       "      <td>0</td>\n",
       "      <td>0</td>\n",
       "      <td>0</td>\n",
       "      <td>0</td>\n",
       "      <td>0</td>\n",
       "      <td>0</td>\n",
       "      <td>0</td>\n",
       "      <td>0</td>\n",
       "      <td>0</td>\n",
       "      <td>0</td>\n",
       "      <td>0</td>\n",
       "    </tr>\n",
       "  </tbody>\n",
       "</table>\n",
       "</div>"
      ],
      "text/plain": [
       "   colleague discovered  colleague learned  colleague read  discussion board  \\\n",
       "0                     0                  0               0                 0   \n",
       "1                     0                  0               0                 0   \n",
       "2                     0                  0               0                 0   \n",
       "\n",
       "   friend learned  friend read  internet forum  learned media  learned news  \\\n",
       "0               0            0               0              0             0   \n",
       "1               0            0               0              0             0   \n",
       "2               0            0               0              0             0   \n",
       "\n",
       "   media claim  news claim  point view  read media  social media  \\\n",
       "0            0           0           0           0             0   \n",
       "1            0           0           0           0             0   \n",
       "2            0           0           0           0             0   \n",
       "\n",
       "   willing wager  \n",
       "0              0  \n",
       "1              0  \n",
       "2              0  "
      ]
     },
     "execution_count": 39,
     "metadata": {},
     "output_type": "execute_result"
    }
   ],
   "source": [
    "# place the numerical representation of 'video_transcription_test' into the data\n",
    "\n",
    "count_df = pd.DataFrame(data=count_data, columns=count_vec.get_feature_names_out())\n",
    "\n",
    "count_df.head(3)"
   ]
  },
  {
   "cell_type": "code",
   "execution_count": 40,
   "id": "ab62f9f9",
   "metadata": {},
   "outputs": [
    {
     "data": {
      "text/html": [
       "<div>\n",
       "<style scoped>\n",
       "    .dataframe tbody tr th:only-of-type {\n",
       "        vertical-align: middle;\n",
       "    }\n",
       "\n",
       "    .dataframe tbody tr th {\n",
       "        vertical-align: top;\n",
       "    }\n",
       "\n",
       "    .dataframe thead th {\n",
       "        text-align: right;\n",
       "    }\n",
       "</style>\n",
       "<table border=\"1\" class=\"dataframe\">\n",
       "  <thead>\n",
       "    <tr style=\"text-align: right;\">\n",
       "      <th></th>\n",
       "      <th>#</th>\n",
       "      <th>claim_status</th>\n",
       "      <th>video_id</th>\n",
       "      <th>video_duration_sec</th>\n",
       "      <th>verified_status</th>\n",
       "      <th>author_ban_status</th>\n",
       "      <th>video_view_count</th>\n",
       "      <th>video_like_count</th>\n",
       "      <th>video_share_count</th>\n",
       "      <th>video_download_count</th>\n",
       "      <th>video_comment_count</th>\n",
       "      <th>text_length</th>\n",
       "      <th>colleague discovered</th>\n",
       "      <th>colleague learned</th>\n",
       "      <th>colleague read</th>\n",
       "      <th>discussion board</th>\n",
       "      <th>friend learned</th>\n",
       "      <th>friend read</th>\n",
       "      <th>internet forum</th>\n",
       "      <th>learned media</th>\n",
       "      <th>learned news</th>\n",
       "      <th>media claim</th>\n",
       "      <th>news claim</th>\n",
       "      <th>point view</th>\n",
       "      <th>read media</th>\n",
       "      <th>social media</th>\n",
       "      <th>willing wager</th>\n",
       "    </tr>\n",
       "  </thead>\n",
       "  <tbody>\n",
       "    <tr>\n",
       "      <th>0</th>\n",
       "      <td>1</td>\n",
       "      <td>claim</td>\n",
       "      <td>7017666017</td>\n",
       "      <td>59</td>\n",
       "      <td>not verified</td>\n",
       "      <td>under review</td>\n",
       "      <td>343296.0000</td>\n",
       "      <td>19425.0000</td>\n",
       "      <td>241.0000</td>\n",
       "      <td>1.0000</td>\n",
       "      <td>0.0000</td>\n",
       "      <td>97</td>\n",
       "      <td>0</td>\n",
       "      <td>0</td>\n",
       "      <td>0</td>\n",
       "      <td>0</td>\n",
       "      <td>0</td>\n",
       "      <td>0</td>\n",
       "      <td>0</td>\n",
       "      <td>0</td>\n",
       "      <td>0</td>\n",
       "      <td>0</td>\n",
       "      <td>0</td>\n",
       "      <td>0</td>\n",
       "      <td>0</td>\n",
       "      <td>0</td>\n",
       "      <td>0</td>\n",
       "    </tr>\n",
       "    <tr>\n",
       "      <th>1</th>\n",
       "      <td>2</td>\n",
       "      <td>claim</td>\n",
       "      <td>4014381136</td>\n",
       "      <td>32</td>\n",
       "      <td>not verified</td>\n",
       "      <td>active</td>\n",
       "      <td>140877.0000</td>\n",
       "      <td>77355.0000</td>\n",
       "      <td>19034.0000</td>\n",
       "      <td>1161.0000</td>\n",
       "      <td>684.0000</td>\n",
       "      <td>107</td>\n",
       "      <td>0</td>\n",
       "      <td>0</td>\n",
       "      <td>0</td>\n",
       "      <td>0</td>\n",
       "      <td>0</td>\n",
       "      <td>0</td>\n",
       "      <td>0</td>\n",
       "      <td>0</td>\n",
       "      <td>0</td>\n",
       "      <td>0</td>\n",
       "      <td>0</td>\n",
       "      <td>0</td>\n",
       "      <td>0</td>\n",
       "      <td>0</td>\n",
       "      <td>0</td>\n",
       "    </tr>\n",
       "    <tr>\n",
       "      <th>2</th>\n",
       "      <td>3</td>\n",
       "      <td>claim</td>\n",
       "      <td>9859838091</td>\n",
       "      <td>31</td>\n",
       "      <td>not verified</td>\n",
       "      <td>active</td>\n",
       "      <td>902185.0000</td>\n",
       "      <td>97690.0000</td>\n",
       "      <td>2858.0000</td>\n",
       "      <td>833.0000</td>\n",
       "      <td>329.0000</td>\n",
       "      <td>137</td>\n",
       "      <td>0</td>\n",
       "      <td>0</td>\n",
       "      <td>0</td>\n",
       "      <td>0</td>\n",
       "      <td>0</td>\n",
       "      <td>0</td>\n",
       "      <td>0</td>\n",
       "      <td>0</td>\n",
       "      <td>0</td>\n",
       "      <td>0</td>\n",
       "      <td>0</td>\n",
       "      <td>0</td>\n",
       "      <td>0</td>\n",
       "      <td>0</td>\n",
       "      <td>0</td>\n",
       "    </tr>\n",
       "  </tbody>\n",
       "</table>\n",
       "</div>"
      ],
      "text/plain": [
       "   # claim_status    video_id  video_duration_sec verified_status  \\\n",
       "0  1        claim  7017666017                  59    not verified   \n",
       "1  2        claim  4014381136                  32    not verified   \n",
       "2  3        claim  9859838091                  31    not verified   \n",
       "\n",
       "  author_ban_status  video_view_count  video_like_count  video_share_count  \\\n",
       "0      under review       343296.0000        19425.0000           241.0000   \n",
       "1            active       140877.0000        77355.0000         19034.0000   \n",
       "2            active       902185.0000        97690.0000          2858.0000   \n",
       "\n",
       "   video_download_count  video_comment_count  text_length  \\\n",
       "0                1.0000               0.0000           97   \n",
       "1             1161.0000             684.0000          107   \n",
       "2              833.0000             329.0000          137   \n",
       "\n",
       "   colleague discovered  colleague learned  colleague read  discussion board  \\\n",
       "0                     0                  0               0                 0   \n",
       "1                     0                  0               0                 0   \n",
       "2                     0                  0               0                 0   \n",
       "\n",
       "   friend learned  friend read  internet forum  learned media  learned news  \\\n",
       "0               0            0               0              0             0   \n",
       "1               0            0               0              0             0   \n",
       "2               0            0               0              0             0   \n",
       "\n",
       "   media claim  news claim  point view  read media  social media  \\\n",
       "0            0           0           0           0             0   \n",
       "1            0           0           0           0             0   \n",
       "2            0           0           0           0             0   \n",
       "\n",
       "   willing wager  \n",
       "0              0  \n",
       "1              0  \n",
       "2              0  "
      ]
     },
     "execution_count": 40,
     "metadata": {},
     "output_type": "execute_result"
    }
   ],
   "source": [
    "# Concatenate 'data' and 'count_df' to form the final dataframe \n",
    "\n",
    "data_final = pd.concat([data.drop(['video_transcription_text'],axis=1).reset_index(drop=True), count_df], axis=1)\n",
    "\n",
    "data_final.head(3)"
   ]
  },
  {
   "cell_type": "markdown",
   "id": "7c820a8c",
   "metadata": {},
   "source": [
    "#### Encoding variables for ensemble-based models"
   ]
  },
  {
   "cell_type": "code",
   "execution_count": 41,
   "id": "9667b887",
   "metadata": {},
   "outputs": [
    {
     "data": {
      "text/html": [
       "<div>\n",
       "<style scoped>\n",
       "    .dataframe tbody tr th:only-of-type {\n",
       "        vertical-align: middle;\n",
       "    }\n",
       "\n",
       "    .dataframe tbody tr th {\n",
       "        vertical-align: top;\n",
       "    }\n",
       "\n",
       "    .dataframe thead th {\n",
       "        text-align: right;\n",
       "    }\n",
       "</style>\n",
       "<table border=\"1\" class=\"dataframe\">\n",
       "  <thead>\n",
       "    <tr style=\"text-align: right;\">\n",
       "      <th></th>\n",
       "      <th>#</th>\n",
       "      <th>claim_status</th>\n",
       "      <th>video_id</th>\n",
       "      <th>video_duration_sec</th>\n",
       "      <th>video_view_count</th>\n",
       "      <th>video_like_count</th>\n",
       "      <th>video_share_count</th>\n",
       "      <th>video_download_count</th>\n",
       "      <th>video_comment_count</th>\n",
       "      <th>text_length</th>\n",
       "      <th>colleague discovered</th>\n",
       "      <th>colleague learned</th>\n",
       "      <th>colleague read</th>\n",
       "      <th>discussion board</th>\n",
       "      <th>friend learned</th>\n",
       "      <th>friend read</th>\n",
       "      <th>internet forum</th>\n",
       "      <th>learned media</th>\n",
       "      <th>learned news</th>\n",
       "      <th>media claim</th>\n",
       "      <th>news claim</th>\n",
       "      <th>point view</th>\n",
       "      <th>read media</th>\n",
       "      <th>social media</th>\n",
       "      <th>willing wager</th>\n",
       "      <th>verified_status_verified</th>\n",
       "      <th>author_ban_status_banned</th>\n",
       "      <th>author_ban_status_under review</th>\n",
       "    </tr>\n",
       "  </thead>\n",
       "  <tbody>\n",
       "    <tr>\n",
       "      <th>0</th>\n",
       "      <td>1</td>\n",
       "      <td>1</td>\n",
       "      <td>7017666017</td>\n",
       "      <td>59</td>\n",
       "      <td>343296.0000</td>\n",
       "      <td>19425.0000</td>\n",
       "      <td>241.0000</td>\n",
       "      <td>1.0000</td>\n",
       "      <td>0.0000</td>\n",
       "      <td>97</td>\n",
       "      <td>0</td>\n",
       "      <td>0</td>\n",
       "      <td>0</td>\n",
       "      <td>0</td>\n",
       "      <td>0</td>\n",
       "      <td>0</td>\n",
       "      <td>0</td>\n",
       "      <td>0</td>\n",
       "      <td>0</td>\n",
       "      <td>0</td>\n",
       "      <td>0</td>\n",
       "      <td>0</td>\n",
       "      <td>0</td>\n",
       "      <td>0</td>\n",
       "      <td>0</td>\n",
       "      <td>False</td>\n",
       "      <td>False</td>\n",
       "      <td>True</td>\n",
       "    </tr>\n",
       "    <tr>\n",
       "      <th>1</th>\n",
       "      <td>2</td>\n",
       "      <td>1</td>\n",
       "      <td>4014381136</td>\n",
       "      <td>32</td>\n",
       "      <td>140877.0000</td>\n",
       "      <td>77355.0000</td>\n",
       "      <td>19034.0000</td>\n",
       "      <td>1161.0000</td>\n",
       "      <td>684.0000</td>\n",
       "      <td>107</td>\n",
       "      <td>0</td>\n",
       "      <td>0</td>\n",
       "      <td>0</td>\n",
       "      <td>0</td>\n",
       "      <td>0</td>\n",
       "      <td>0</td>\n",
       "      <td>0</td>\n",
       "      <td>0</td>\n",
       "      <td>0</td>\n",
       "      <td>0</td>\n",
       "      <td>0</td>\n",
       "      <td>0</td>\n",
       "      <td>0</td>\n",
       "      <td>0</td>\n",
       "      <td>0</td>\n",
       "      <td>False</td>\n",
       "      <td>False</td>\n",
       "      <td>False</td>\n",
       "    </tr>\n",
       "    <tr>\n",
       "      <th>2</th>\n",
       "      <td>3</td>\n",
       "      <td>1</td>\n",
       "      <td>9859838091</td>\n",
       "      <td>31</td>\n",
       "      <td>902185.0000</td>\n",
       "      <td>97690.0000</td>\n",
       "      <td>2858.0000</td>\n",
       "      <td>833.0000</td>\n",
       "      <td>329.0000</td>\n",
       "      <td>137</td>\n",
       "      <td>0</td>\n",
       "      <td>0</td>\n",
       "      <td>0</td>\n",
       "      <td>0</td>\n",
       "      <td>0</td>\n",
       "      <td>0</td>\n",
       "      <td>0</td>\n",
       "      <td>0</td>\n",
       "      <td>0</td>\n",
       "      <td>0</td>\n",
       "      <td>0</td>\n",
       "      <td>0</td>\n",
       "      <td>0</td>\n",
       "      <td>0</td>\n",
       "      <td>0</td>\n",
       "      <td>False</td>\n",
       "      <td>False</td>\n",
       "      <td>False</td>\n",
       "    </tr>\n",
       "  </tbody>\n",
       "</table>\n",
       "</div>"
      ],
      "text/plain": [
       "   #  claim_status    video_id  video_duration_sec  video_view_count  \\\n",
       "0  1             1  7017666017                  59       343296.0000   \n",
       "1  2             1  4014381136                  32       140877.0000   \n",
       "2  3             1  9859838091                  31       902185.0000   \n",
       "\n",
       "   video_like_count  video_share_count  video_download_count  \\\n",
       "0        19425.0000           241.0000                1.0000   \n",
       "1        77355.0000         19034.0000             1161.0000   \n",
       "2        97690.0000          2858.0000              833.0000   \n",
       "\n",
       "   video_comment_count  text_length  colleague discovered  colleague learned  \\\n",
       "0               0.0000           97                     0                  0   \n",
       "1             684.0000          107                     0                  0   \n",
       "2             329.0000          137                     0                  0   \n",
       "\n",
       "   colleague read  discussion board  friend learned  friend read  \\\n",
       "0               0                 0               0            0   \n",
       "1               0                 0               0            0   \n",
       "2               0                 0               0            0   \n",
       "\n",
       "   internet forum  learned media  learned news  media claim  news claim  \\\n",
       "0               0              0             0            0           0   \n",
       "1               0              0             0            0           0   \n",
       "2               0              0             0            0           0   \n",
       "\n",
       "   point view  read media  social media  willing wager  \\\n",
       "0           0           0             0              0   \n",
       "1           0           0             0              0   \n",
       "2           0           0             0              0   \n",
       "\n",
       "   verified_status_verified  author_ban_status_banned  \\\n",
       "0                     False                     False   \n",
       "1                     False                     False   \n",
       "2                     False                     False   \n",
       "\n",
       "   author_ban_status_under review  \n",
       "0                            True  \n",
       "1                           False  \n",
       "2                           False  "
      ]
     },
     "execution_count": 41,
     "metadata": {},
     "output_type": "execute_result"
    }
   ],
   "source": [
    "# encode target variable\n",
    "\n",
    "df_final = data_final.copy()\n",
    "\n",
    "df_final['claim_status'] = df_final['claim_status'].map({'claim':1, 'opinion':0})\n",
    "\n",
    "# dummy encode 'verified_status' and 'author_ban_status'\n",
    "\n",
    "df_final = pd.get_dummies(df_final, columns=['verified_status','author_ban_status'], drop_first=True)\n",
    "\n",
    "df_final.head(3)"
   ]
  },
  {
   "cell_type": "markdown",
   "id": "3757d041",
   "metadata": {},
   "source": [
    "#### Split the data"
   ]
  },
  {
   "cell_type": "code",
   "execution_count": 42,
   "id": "55afd908",
   "metadata": {},
   "outputs": [
    {
     "data": {
      "text/html": [
       "<div>\n",
       "<style scoped>\n",
       "    .dataframe tbody tr th:only-of-type {\n",
       "        vertical-align: middle;\n",
       "    }\n",
       "\n",
       "    .dataframe tbody tr th {\n",
       "        vertical-align: top;\n",
       "    }\n",
       "\n",
       "    .dataframe thead th {\n",
       "        text-align: right;\n",
       "    }\n",
       "</style>\n",
       "<table border=\"1\" class=\"dataframe\">\n",
       "  <thead>\n",
       "    <tr style=\"text-align: right;\">\n",
       "      <th></th>\n",
       "      <th>video_duration_sec</th>\n",
       "      <th>video_view_count</th>\n",
       "      <th>video_like_count</th>\n",
       "      <th>video_share_count</th>\n",
       "      <th>video_download_count</th>\n",
       "      <th>video_comment_count</th>\n",
       "      <th>text_length</th>\n",
       "      <th>colleague discovered</th>\n",
       "      <th>colleague learned</th>\n",
       "      <th>colleague read</th>\n",
       "      <th>discussion board</th>\n",
       "      <th>friend learned</th>\n",
       "      <th>friend read</th>\n",
       "      <th>internet forum</th>\n",
       "      <th>learned media</th>\n",
       "      <th>learned news</th>\n",
       "      <th>media claim</th>\n",
       "      <th>news claim</th>\n",
       "      <th>point view</th>\n",
       "      <th>read media</th>\n",
       "      <th>social media</th>\n",
       "      <th>willing wager</th>\n",
       "      <th>verified_status_verified</th>\n",
       "      <th>author_ban_status_banned</th>\n",
       "      <th>author_ban_status_under review</th>\n",
       "    </tr>\n",
       "  </thead>\n",
       "  <tbody>\n",
       "    <tr>\n",
       "      <th>0</th>\n",
       "      <td>59</td>\n",
       "      <td>343296.0000</td>\n",
       "      <td>19425.0000</td>\n",
       "      <td>241.0000</td>\n",
       "      <td>1.0000</td>\n",
       "      <td>0.0000</td>\n",
       "      <td>97</td>\n",
       "      <td>0</td>\n",
       "      <td>0</td>\n",
       "      <td>0</td>\n",
       "      <td>0</td>\n",
       "      <td>0</td>\n",
       "      <td>0</td>\n",
       "      <td>0</td>\n",
       "      <td>0</td>\n",
       "      <td>0</td>\n",
       "      <td>0</td>\n",
       "      <td>0</td>\n",
       "      <td>0</td>\n",
       "      <td>0</td>\n",
       "      <td>0</td>\n",
       "      <td>0</td>\n",
       "      <td>False</td>\n",
       "      <td>False</td>\n",
       "      <td>True</td>\n",
       "    </tr>\n",
       "    <tr>\n",
       "      <th>1</th>\n",
       "      <td>32</td>\n",
       "      <td>140877.0000</td>\n",
       "      <td>77355.0000</td>\n",
       "      <td>19034.0000</td>\n",
       "      <td>1161.0000</td>\n",
       "      <td>684.0000</td>\n",
       "      <td>107</td>\n",
       "      <td>0</td>\n",
       "      <td>0</td>\n",
       "      <td>0</td>\n",
       "      <td>0</td>\n",
       "      <td>0</td>\n",
       "      <td>0</td>\n",
       "      <td>0</td>\n",
       "      <td>0</td>\n",
       "      <td>0</td>\n",
       "      <td>0</td>\n",
       "      <td>0</td>\n",
       "      <td>0</td>\n",
       "      <td>0</td>\n",
       "      <td>0</td>\n",
       "      <td>0</td>\n",
       "      <td>False</td>\n",
       "      <td>False</td>\n",
       "      <td>False</td>\n",
       "    </tr>\n",
       "    <tr>\n",
       "      <th>2</th>\n",
       "      <td>31</td>\n",
       "      <td>902185.0000</td>\n",
       "      <td>97690.0000</td>\n",
       "      <td>2858.0000</td>\n",
       "      <td>833.0000</td>\n",
       "      <td>329.0000</td>\n",
       "      <td>137</td>\n",
       "      <td>0</td>\n",
       "      <td>0</td>\n",
       "      <td>0</td>\n",
       "      <td>0</td>\n",
       "      <td>0</td>\n",
       "      <td>0</td>\n",
       "      <td>0</td>\n",
       "      <td>0</td>\n",
       "      <td>0</td>\n",
       "      <td>0</td>\n",
       "      <td>0</td>\n",
       "      <td>0</td>\n",
       "      <td>0</td>\n",
       "      <td>0</td>\n",
       "      <td>0</td>\n",
       "      <td>False</td>\n",
       "      <td>False</td>\n",
       "      <td>False</td>\n",
       "    </tr>\n",
       "  </tbody>\n",
       "</table>\n",
       "</div>"
      ],
      "text/plain": [
       "   video_duration_sec  video_view_count  video_like_count  video_share_count  \\\n",
       "0                  59       343296.0000        19425.0000           241.0000   \n",
       "1                  32       140877.0000        77355.0000         19034.0000   \n",
       "2                  31       902185.0000        97690.0000          2858.0000   \n",
       "\n",
       "   video_download_count  video_comment_count  text_length  \\\n",
       "0                1.0000               0.0000           97   \n",
       "1             1161.0000             684.0000          107   \n",
       "2              833.0000             329.0000          137   \n",
       "\n",
       "   colleague discovered  colleague learned  colleague read  discussion board  \\\n",
       "0                     0                  0               0                 0   \n",
       "1                     0                  0               0                 0   \n",
       "2                     0                  0               0                 0   \n",
       "\n",
       "   friend learned  friend read  internet forum  learned media  learned news  \\\n",
       "0               0            0               0              0             0   \n",
       "1               0            0               0              0             0   \n",
       "2               0            0               0              0             0   \n",
       "\n",
       "   media claim  news claim  point view  read media  social media  \\\n",
       "0            0           0           0           0             0   \n",
       "1            0           0           0           0             0   \n",
       "2            0           0           0           0             0   \n",
       "\n",
       "   willing wager  verified_status_verified  author_ban_status_banned  \\\n",
       "0              0                     False                     False   \n",
       "1              0                     False                     False   \n",
       "2              0                     False                     False   \n",
       "\n",
       "   author_ban_status_under review  \n",
       "0                            True  \n",
       "1                           False  \n",
       "2                           False  "
      ]
     },
     "execution_count": 42,
     "metadata": {},
     "output_type": "execute_result"
    }
   ],
   "source": [
    "# Isolate target variable\n",
    "\n",
    "y_en = df_final['claim_status']\n",
    "\n",
    "# Isolate features to be included in the model\n",
    "\n",
    "X_en = df_final.drop(['#','claim_status','video_id'], axis=1).reset_index(drop=True)\n",
    "\n",
    "X_en.head(3)"
   ]
  },
  {
   "cell_type": "code",
   "execution_count": 43,
   "id": "2622f5a3",
   "metadata": {},
   "outputs": [],
   "source": [
    "# split X_en and y_en into training and test set\n",
    "\n",
    "X_tr, X_test, y_tr, y_test = train_test_split(X_en, y_en, random_state=42, test_size=0.20, stratify=y_en)\n",
    "\n",
    "# split X_tr and y_tr into training and validation set\n",
    "\n",
    "X_train, X_val, y_train, y_val = train_test_split(X_tr, y_tr, random_state=0, test_size=0.25, stratify=y_tr)"
   ]
  },
  {
   "cell_type": "code",
   "execution_count": 44,
   "id": "b9882db7",
   "metadata": {},
   "outputs": [
    {
     "name": "stdout",
     "output_type": "stream",
     "text": [
      "(11450, 25)\n",
      "(3817, 25)\n",
      "(3817, 25)\n"
     ]
    }
   ],
   "source": [
    "# validate whether the data spliting is done correctly\n",
    "\n",
    "for x in [X_train,X_val,X_test]:\n",
    "    print (x.shape)"
   ]
  },
  {
   "cell_type": "markdown",
   "id": "fa3044cf-21a7-451a-b19b-39f16696ad5c",
   "metadata": {},
   "source": [
    "#### Build a random forest model"
   ]
  },
  {
   "cell_type": "code",
   "execution_count": 45,
   "id": "3b3cd0aa-e256-4d0f-bb89-99a97d3fe8b2",
   "metadata": {},
   "outputs": [],
   "source": [
    "# instantiate  the random forest classifier\n",
    "\n",
    "rf = RandomForestClassifier(random_state=42)\n",
    "\n",
    "# create a dictionary of hyperparameters to tune\n",
    "\n",
    "rf_params = {'max_depth':[5, 7, None],\n",
    "            'max_features':[0.3, 0.6],\n",
    "            'max_samples':[0.5, 0.8],\n",
    "            'min_samples_leaf':[1,2],\n",
    "            'min_samples_split':[2,3],\n",
    "            'n_estimators':[50, 100, 200],\n",
    "            }\n",
    "# define a dictionary of scoring metrics to capture\n",
    "\n",
    "scoring = {'accuracy','f1','precision','recall'}\n",
    "\n",
    "# instantiate the GridSearchCV object\n",
    "\n",
    "rf_cv = GridSearchCV(rf, rf_params, scoring=scoring, cv=5, refit='recall', n_jobs=-1)"
   ]
  },
  {
   "cell_type": "code",
   "execution_count": 46,
   "id": "f9bd0e02-fb37-4704-bb83-7bb2164f3c54",
   "metadata": {},
   "outputs": [
    {
     "name": "stdout",
     "output_type": "stream",
     "text": [
      "CPU times: user 1e+03 ns, sys: 0 ns, total: 1e+03 ns\n",
      "Wall time: 3.1 µs\n"
     ]
    }
   ],
   "source": [
    "%%time\n",
    "# fit the classifier with X_train and y_train dataset\n",
    "\n",
    "#rf_cv.fit(X_train, y_train)"
   ]
  },
  {
   "cell_type": "code",
   "execution_count": 47,
   "id": "c9a07722-413e-43d3-85e8-862324c14bf2",
   "metadata": {},
   "outputs": [],
   "source": [
    "# folder path where the fitted model will be saved at\n",
    "\n",
    "path = '/Users/salai/Library/CloudStorage/OneDrive-Personal/Desktop/Google Advance Data Analytic/Porfolio Projects/TikTok models/'\n",
    "\n",
    "# load packages needed to save those fitted models\n",
    "\n",
    "import pickle\n",
    "import os"
   ]
  },
  {
   "cell_type": "code",
   "execution_count": 48,
   "id": "9988d68f-4251-4d4f-a28c-4d0fd2ab0eb9",
   "metadata": {},
   "outputs": [],
   "source": [
    "def save_model(path, fit_model, model_name:str):\n",
    "    '''\n",
    "    In:\n",
    "        path: path of folder where the fitted model will be save\n",
    "        fit_model: model that you want to pickle\n",
    "        model_name: Name for the saved model file\n",
    "        \n",
    "    Out: A call to pickle the model in the folder indicated\n",
    "    '''\n",
    "    # Ensure the directory exists, if not, create it\n",
    "    if not os.path.exists(path):\n",
    "        os.makedirs(path)\n",
    "\n",
    "    # complete file path\n",
    "    file_path = os.path.join(path, model_name + '.pickle')\n",
    "\n",
    "    #save the model\n",
    "    with open(file_path, 'wb') as to_write:\n",
    "        pickle.dump(fit_model, to_write)"
   ]
  },
  {
   "cell_type": "code",
   "execution_count": 49,
   "id": "d30283ca-66b9-42f7-9c09-6f15ddcbdad4",
   "metadata": {},
   "outputs": [],
   "source": [
    "def read_pickle(path:str, model_name:str):\n",
    "     '''\n",
    "    In:\n",
    "        path: path of folder where the fitted model will be save\n",
    "        model_name: model that you want to read in\n",
    "        \n",
    "    Out:\n",
    "        model: the pickled model\n",
    "    '''\n",
    "     # construct the full path to the pickled model file\n",
    "     file_path = os.path.join(path, model_name+'.pickle')\n",
    "    \n",
    "     with open(file_path,'rb') as to_read:\n",
    "        model = pickle.load(to_read)\n",
    "    \n",
    "     return model"
   ]
  },
  {
   "cell_type": "code",
   "execution_count": 50,
   "id": "432fe71d-e3d5-412d-8994-169f3d6793ae",
   "metadata": {},
   "outputs": [],
   "source": [
    "# write pickle\n",
    "\n",
    "#save_model(path, rf_cv, 'rf_cv_model')"
   ]
  },
  {
   "cell_type": "code",
   "execution_count": 51,
   "id": "d62bed26-f2f9-428f-873f-60b636135064",
   "metadata": {},
   "outputs": [],
   "source": [
    "# load pickle\n",
    "\n",
    "rf_cv = read_pickle(path, 'rf_cv_model')"
   ]
  },
  {
   "cell_type": "code",
   "execution_count": 52,
   "id": "1426e996-31d5-45d4-9208-42370c448ae8",
   "metadata": {},
   "outputs": [
    {
     "data": {
      "text/plain": [
       "{'max_depth': None,\n",
       " 'max_features': 0.6,\n",
       " 'max_samples': 0.8,\n",
       " 'min_samples_leaf': 1,\n",
       " 'min_samples_split': 2,\n",
       " 'n_estimators': 100}"
      ]
     },
     "execution_count": 52,
     "metadata": {},
     "output_type": "execute_result"
    }
   ],
   "source": [
    "# check best params\n",
    "\n",
    "rf_cv.best_params_"
   ]
  },
  {
   "cell_type": "code",
   "execution_count": 53,
   "id": "a224643c-85c1-4d76-a154-87cfbca0277a",
   "metadata": {},
   "outputs": [
    {
     "data": {
      "text/plain": [
       "0.9960099559121133"
      ]
     },
     "execution_count": 53,
     "metadata": {},
     "output_type": "execute_result"
    }
   ],
   "source": [
    "# check best recall score on CV\n",
    "\n",
    "rf_cv.best_score_"
   ]
  },
  {
   "cell_type": "code",
   "execution_count": 54,
   "id": "a2ade3ee-7eea-4230-a73c-bf23c70027e0",
   "metadata": {},
   "outputs": [],
   "source": [
    "def make_result(model_name:str, model_obj, score:str):\n",
    "    '''\n",
    "    Arguments:\n",
    "        model_name: what you want the model to be called in the output table\n",
    "        model_obj: a fit GridSearchCV object\n",
    "        score: Precision, Recall, Accuracy, F1\n",
    "\n",
    "    Return a pandas df with the Accuracy, F1, Precision and Recall scores for the model with the best mean 'score'.\n",
    "    '''\n",
    "    # create dictionary that maps input metric to actual metric name in GridSeachCV\n",
    "    score_dict = {'Accuracy':'mean_test_accuracy',\n",
    "                 'F1':'mean_test_f1',\n",
    "                 'Precision':'mean_test_precision',\n",
    "                 'Recall':'mean_test_recall',\n",
    "                 }\n",
    "\n",
    "    # get all results from the CV and put them in a df\n",
    "    cv_results = pd.DataFrame(model_obj.cv_results_)\n",
    "\n",
    "    # isolate the row of the df with max(metric) score\n",
    "    best_estimator = cv_results.iloc[cv_results[score_dict[score]].idxmax(),:]\n",
    "\n",
    "    # create table of results containing accuracy, f1, precision and recall score from that row\n",
    "    table = pd.DataFrame({'Model':[model_name],\n",
    "                         'Accuracy':[best_estimator.mean_test_accuracy],\n",
    "                         'F1':[best_estimator.mean_test_f1],\n",
    "                         'Precision':[best_estimator.mean_test_precision],\n",
    "                         'Recall':[best_estimator.mean_test_recall],\n",
    "                         })\n",
    "    return table\n",
    "    "
   ]
  },
  {
   "cell_type": "code",
   "execution_count": 55,
   "id": "88a105d6-c6e4-486e-a463-0e54b756acbf",
   "metadata": {},
   "outputs": [
    {
     "data": {
      "text/html": [
       "<div>\n",
       "<style scoped>\n",
       "    .dataframe tbody tr th:only-of-type {\n",
       "        vertical-align: middle;\n",
       "    }\n",
       "\n",
       "    .dataframe tbody tr th {\n",
       "        vertical-align: top;\n",
       "    }\n",
       "\n",
       "    .dataframe thead th {\n",
       "        text-align: right;\n",
       "    }\n",
       "</style>\n",
       "<table border=\"1\" class=\"dataframe\">\n",
       "  <thead>\n",
       "    <tr style=\"text-align: right;\">\n",
       "      <th></th>\n",
       "      <th>Model</th>\n",
       "      <th>Accuracy</th>\n",
       "      <th>F1</th>\n",
       "      <th>Precision</th>\n",
       "      <th>Recall</th>\n",
       "    </tr>\n",
       "  </thead>\n",
       "  <tbody>\n",
       "    <tr>\n",
       "      <th>0</th>\n",
       "      <td>random forest cv</td>\n",
       "      <td>0.9980</td>\n",
       "      <td>0.9980</td>\n",
       "      <td>1.0000</td>\n",
       "      <td>0.9960</td>\n",
       "    </tr>\n",
       "  </tbody>\n",
       "</table>\n",
       "</div>"
      ],
      "text/plain": [
       "              Model  Accuracy     F1  Precision  Recall\n",
       "0  random forest cv    0.9980 0.9980     1.0000  0.9960"
      ]
     },
     "execution_count": 55,
     "metadata": {},
     "output_type": "execute_result"
    }
   ],
   "source": [
    "# get all the CV scores for the optimal random forest model\n",
    "rf_result = make_result('random forest cv', rf_cv, 'Recall')\n",
    "\n",
    "rf_result"
   ]
  },
  {
   "cell_type": "code",
   "execution_count": 56,
   "id": "3c8b9bbb-660b-4f6a-bf9b-0d91f3634c1c",
   "metadata": {},
   "outputs": [
    {
     "data": {
      "text/html": [
       "<div>\n",
       "<style scoped>\n",
       "    .dataframe tbody tr th:only-of-type {\n",
       "        vertical-align: middle;\n",
       "    }\n",
       "\n",
       "    .dataframe tbody tr th {\n",
       "        vertical-align: top;\n",
       "    }\n",
       "\n",
       "    .dataframe thead th {\n",
       "        text-align: right;\n",
       "    }\n",
       "</style>\n",
       "<table border=\"1\" class=\"dataframe\">\n",
       "  <thead>\n",
       "    <tr style=\"text-align: right;\">\n",
       "      <th></th>\n",
       "      <th>Model</th>\n",
       "      <th>Accuracy</th>\n",
       "      <th>F1</th>\n",
       "      <th>Precision</th>\n",
       "      <th>Recall</th>\n",
       "    </tr>\n",
       "  </thead>\n",
       "  <tbody>\n",
       "    <tr>\n",
       "      <th>0</th>\n",
       "      <td>Logistic Reg</td>\n",
       "      <td>0.9937</td>\n",
       "      <td>0.9937</td>\n",
       "      <td>1.0000</td>\n",
       "      <td>0.9875</td>\n",
       "    </tr>\n",
       "    <tr>\n",
       "      <th>0</th>\n",
       "      <td>random forest cv</td>\n",
       "      <td>0.9980</td>\n",
       "      <td>0.9980</td>\n",
       "      <td>1.0000</td>\n",
       "      <td>0.9960</td>\n",
       "    </tr>\n",
       "  </tbody>\n",
       "</table>\n",
       "</div>"
      ],
      "text/plain": [
       "              Model  Accuracy     F1  Precision  Recall\n",
       "0      Logistic Reg    0.9937 0.9937     1.0000  0.9875\n",
       "0  random forest cv    0.9980 0.9980     1.0000  0.9960"
      ]
     },
     "execution_count": 56,
     "metadata": {},
     "output_type": "execute_result"
    }
   ],
   "source": [
    "# combine with the result_table from the logistic regression\n",
    "\n",
    "result_final = pd.concat([result_table, rf_result], axis=0)\n",
    "\n",
    "result_final.reset_index(drop=True)\n",
    "\n",
    "result_final"
   ]
  },
  {
   "cell_type": "markdown",
   "id": "fab899b9-1758-4e29-ade8-386c81ebd249",
   "metadata": {},
   "source": [
    "This random forest model performs exceptionally well, with an average recall score of 0.9960 across the five cross-validation folds and better than logistic regression model. After checking the precision score to be sure the model is not classifying all samples as claims, it is clear that this model is making almost prefect classifications. "
   ]
  },
  {
   "cell_type": "markdown",
   "id": "29c5520b-81cc-43ad-95b8-a44966ece699",
   "metadata": {},
   "source": [
    "#### Build an XGBoost model"
   ]
  },
  {
   "cell_type": "code",
   "execution_count": 57,
   "id": "f23cebdb-fa6e-491a-a5d8-1ed8ff43e77b",
   "metadata": {},
   "outputs": [],
   "source": [
    "# instantiate the XGBoost classifier\n",
    "\n",
    "xgb = XGBClassifier(objective='binary:logistic', random_state=0)\n",
    "\n",
    "# create a dictionary of hyperparameters to tune\n",
    "\n",
    "xgb_params = {'max_depth':[2, 8, 12],\n",
    "             'min_child_weight':[3, 5],\n",
    "             'learning_rate':[0.1, 0.2, 0.3],\n",
    "             'n_estimators':[100, 300, 500],\n",
    "             }\n",
    "\n",
    "# create a dictionary of scoring metrics to capture\n",
    "\n",
    "scoring = {'accuracy','f1','precision','recall'}\n",
    "\n",
    "# instantiate the GridSearchCV object\n",
    "\n",
    "xgb_cv = GridSearchCV(xgb, xgb_params, scoring=scoring, cv=5, refit='recall', n_jobs=-1)"
   ]
  },
  {
   "cell_type": "code",
   "execution_count": 58,
   "id": "fd5e0eb0-a70b-4b8c-aace-8319fdb2c6db",
   "metadata": {},
   "outputs": [
    {
     "name": "stdout",
     "output_type": "stream",
     "text": [
      "CPU times: user 1 µs, sys: 1 µs, total: 2 µs\n",
      "Wall time: 4.05 µs\n"
     ]
    }
   ],
   "source": [
    "%%time\n",
    "\n",
    "# fit the GridSearchCV object\n",
    "\n",
    "#xgb_cv.fit(X_train, y_train)"
   ]
  },
  {
   "cell_type": "code",
   "execution_count": 59,
   "id": "f64d0469-b84c-407a-95bd-867eb65051b8",
   "metadata": {},
   "outputs": [],
   "source": [
    "# create pickle\n",
    "\n",
    "#save_model(path, xgb_cv, 'xgb_cv_model')"
   ]
  },
  {
   "cell_type": "code",
   "execution_count": 60,
   "id": "2e4bec73-a5cb-4024-b511-5127a503ac4d",
   "metadata": {},
   "outputs": [],
   "source": [
    "# load xgb_cv model \n",
    "\n",
    "xgb_cv = read_pickle(path, 'xgb_cv_model')"
   ]
  },
  {
   "cell_type": "code",
   "execution_count": 61,
   "id": "10097e80-4c92-4366-9ee6-7196d257f5fe",
   "metadata": {},
   "outputs": [
    {
     "data": {
      "text/plain": [
       "0.9902850053001832"
      ]
     },
     "execution_count": 61,
     "metadata": {},
     "output_type": "execute_result"
    }
   ],
   "source": [
    "# check best recall score for XGBoost model\n",
    "\n",
    "xgb_cv.best_score_"
   ]
  },
  {
   "cell_type": "code",
   "execution_count": 62,
   "id": "c70f28ab-fbc5-4f20-9080-45b27832eefe",
   "metadata": {},
   "outputs": [
    {
     "data": {
      "text/plain": [
       "{'learning_rate': 0.1,\n",
       " 'max_depth': 2,\n",
       " 'min_child_weight': 3,\n",
       " 'n_estimators': 300}"
      ]
     },
     "execution_count": 62,
     "metadata": {},
     "output_type": "execute_result"
    }
   ],
   "source": [
    "# check best parameters for XGBoost model\n",
    "\n",
    "xgb_cv.best_params_"
   ]
  },
  {
   "cell_type": "code",
   "execution_count": 63,
   "id": "43ca17d6-c9e7-4468-aacb-04692557e38a",
   "metadata": {},
   "outputs": [
    {
     "data": {
      "text/html": [
       "<div>\n",
       "<style scoped>\n",
       "    .dataframe tbody tr th:only-of-type {\n",
       "        vertical-align: middle;\n",
       "    }\n",
       "\n",
       "    .dataframe tbody tr th {\n",
       "        vertical-align: top;\n",
       "    }\n",
       "\n",
       "    .dataframe thead th {\n",
       "        text-align: right;\n",
       "    }\n",
       "</style>\n",
       "<table border=\"1\" class=\"dataframe\">\n",
       "  <thead>\n",
       "    <tr style=\"text-align: right;\">\n",
       "      <th></th>\n",
       "      <th>Model</th>\n",
       "      <th>Accuracy</th>\n",
       "      <th>F1</th>\n",
       "      <th>Precision</th>\n",
       "      <th>Recall</th>\n",
       "    </tr>\n",
       "  </thead>\n",
       "  <tbody>\n",
       "    <tr>\n",
       "      <th>0</th>\n",
       "      <td>random forest cv</td>\n",
       "      <td>0.9980</td>\n",
       "      <td>0.9980</td>\n",
       "      <td>1.0000</td>\n",
       "      <td>0.9960</td>\n",
       "    </tr>\n",
       "    <tr>\n",
       "      <th>0</th>\n",
       "      <td>XGBoost cv</td>\n",
       "      <td>0.9945</td>\n",
       "      <td>0.9945</td>\n",
       "      <td>0.9988</td>\n",
       "      <td>0.9903</td>\n",
       "    </tr>\n",
       "    <tr>\n",
       "      <th>0</th>\n",
       "      <td>Logistic Reg</td>\n",
       "      <td>0.9937</td>\n",
       "      <td>0.9937</td>\n",
       "      <td>1.0000</td>\n",
       "      <td>0.9875</td>\n",
       "    </tr>\n",
       "  </tbody>\n",
       "</table>\n",
       "</div>"
      ],
      "text/plain": [
       "              Model  Accuracy     F1  Precision  Recall\n",
       "0  random forest cv    0.9980 0.9980     1.0000  0.9960\n",
       "0        XGBoost cv    0.9945 0.9945     0.9988  0.9903\n",
       "0      Logistic Reg    0.9937 0.9937     1.0000  0.9875"
      ]
     },
     "execution_count": 63,
     "metadata": {},
     "output_type": "execute_result"
    }
   ],
   "source": [
    "# get all the CV scores for the optimal XGBoost model\n",
    "\n",
    "xgb_result = make_result('XGBoost cv', xgb_cv, 'Recall')\n",
    "\n",
    "# combine the xgb_result to result_final dataframe\n",
    "\n",
    "result_final = pd.concat([result_final, xgb_result], axis=0)\n",
    "\n",
    "result_final.sort_values(by='Recall', ascending=False)"
   ]
  },
  {
   "cell_type": "markdown",
   "id": "3b4aa5cd-6da5-44ef-8681-f2f899581054",
   "metadata": {},
   "source": [
    "The XGBoost model performs exceptionally well, but its recall and precision scores are slightly lower than those of the random forest model. This suggests that the XGBoost model misclassifies some opinion videos as those containing claims. Consequently, the lower precision score implies that certain videos flagged for human moderation will only feature opinions. As a result, the human moderators may inadvertently spend valuable time and effort on content that doesn't warrant their attention."
   ]
  },
  {
   "cell_type": "markdown",
   "id": "76d17de2-7a6f-4dca-8457-3d48ccb0544d",
   "metadata": {},
   "source": [
    "## Execute"
   ]
  },
  {
   "cell_type": "markdown",
   "id": "d5c13cf6-ad78-4a62-b985-0d34bb89f008",
   "metadata": {
    "jp-MarkdownHeadingCollapsed": true
   },
   "source": [
    "### Evaluate models\n",
    "\n",
    "Evaluate models against validation data."
   ]
  },
  {
   "cell_type": "markdown",
   "id": "6bb20acf-8d9a-4fbd-adfb-7538b02bfa04",
   "metadata": {},
   "source": [
    "#### Random forest"
   ]
  },
  {
   "cell_type": "code",
   "execution_count": 64,
   "id": "0331f0f5-c843-4949-a368-c2a9b3f068f3",
   "metadata": {},
   "outputs": [],
   "source": [
    "# use the random forest 'best_estimator' model to get predictions on the validation set\n",
    "\n",
    "rf_pred = rf_cv.best_estimator_.predict(X_val)"
   ]
  },
  {
   "cell_type": "code",
   "execution_count": 65,
   "id": "d935f2bc-7cbd-4012-b279-e1f7539418ae",
   "metadata": {},
   "outputs": [],
   "source": [
    "def evaluation_result(model_name:str, y_orig, y_pred):\n",
    "    '''\n",
    "    Generate a table of test scores.\n",
    "\n",
    "    In:\n",
    "        model_name: How you want your model to be named in the output table\n",
    "        y_orig: dataset containing target variable 'y' in either validation or test set\n",
    "        y_pred: predicted target variable 'y' dataset\n",
    "    Out:\n",
    "        pandas df of precision, recall, f1 and accuracy scores for the best estimator model\n",
    "    '''\n",
    "    # create variables for various test scores\n",
    "    accuracy = accuracy_score(y_orig, y_pred)\n",
    "    f1 = f1_score(y_orig, y_pred)\n",
    "    precision = precision_score(y_orig, y_pred)\n",
    "    recall = recall_score(y_orig, y_pred)\n",
    "\n",
    "    #create dataframe the contains all the test scores\n",
    "    table = pd.DataFrame({'Model':[model_name],\n",
    "                         'Accuracy':[accuracy],\n",
    "                         'F1':[f1],\n",
    "                         'Precision':[precision],\n",
    "                         'Recall':[recall],\n",
    "                         })\n",
    "    return table"
   ]
  },
  {
   "cell_type": "code",
   "execution_count": 66,
   "id": "f4028da1-ab37-41e0-9676-6a60d76dbb17",
   "metadata": {},
   "outputs": [
    {
     "data": {
      "text/html": [
       "<div>\n",
       "<style scoped>\n",
       "    .dataframe tbody tr th:only-of-type {\n",
       "        vertical-align: middle;\n",
       "    }\n",
       "\n",
       "    .dataframe tbody tr th {\n",
       "        vertical-align: top;\n",
       "    }\n",
       "\n",
       "    .dataframe thead th {\n",
       "        text-align: right;\n",
       "    }\n",
       "</style>\n",
       "<table border=\"1\" class=\"dataframe\">\n",
       "  <thead>\n",
       "    <tr style=\"text-align: right;\">\n",
       "      <th></th>\n",
       "      <th>Model</th>\n",
       "      <th>Accuracy</th>\n",
       "      <th>F1</th>\n",
       "      <th>Precision</th>\n",
       "      <th>Recall</th>\n",
       "    </tr>\n",
       "  </thead>\n",
       "  <tbody>\n",
       "    <tr>\n",
       "      <th>0</th>\n",
       "      <td>random forest cv</td>\n",
       "      <td>0.9980</td>\n",
       "      <td>0.9980</td>\n",
       "      <td>1.0000</td>\n",
       "      <td>0.9960</td>\n",
       "    </tr>\n",
       "    <tr>\n",
       "      <th>0</th>\n",
       "      <td>random forest validate</td>\n",
       "      <td>0.9974</td>\n",
       "      <td>0.9974</td>\n",
       "      <td>1.0000</td>\n",
       "      <td>0.9948</td>\n",
       "    </tr>\n",
       "    <tr>\n",
       "      <th>0</th>\n",
       "      <td>XGBoost cv</td>\n",
       "      <td>0.9945</td>\n",
       "      <td>0.9945</td>\n",
       "      <td>0.9988</td>\n",
       "      <td>0.9903</td>\n",
       "    </tr>\n",
       "    <tr>\n",
       "      <th>0</th>\n",
       "      <td>Logistic Reg</td>\n",
       "      <td>0.9937</td>\n",
       "      <td>0.9937</td>\n",
       "      <td>1.0000</td>\n",
       "      <td>0.9875</td>\n",
       "    </tr>\n",
       "  </tbody>\n",
       "</table>\n",
       "</div>"
      ],
      "text/plain": [
       "                    Model  Accuracy     F1  Precision  Recall\n",
       "0        random forest cv    0.9980 0.9980     1.0000  0.9960\n",
       "0  random forest validate    0.9974 0.9974     1.0000  0.9948\n",
       "0              XGBoost cv    0.9945 0.9945     0.9988  0.9903\n",
       "0            Logistic Reg    0.9937 0.9937     1.0000  0.9875"
      ]
     },
     "execution_count": 66,
     "metadata": {},
     "output_type": "execute_result"
    }
   ],
   "source": [
    "# get all the test scores for the optimal random forest model using validation dataset\n",
    "\n",
    "rf_val_result = evaluation_result('random forest validate', y_val, rf_pred)\n",
    "\n",
    "# combine with rf_val_result to result_final table\n",
    "\n",
    "result_final = pd.concat([result_final, rf_val_result],axis=0)\n",
    "\n",
    "result_final.sort_values(by='Recall', ascending=False)"
   ]
  },
  {
   "cell_type": "markdown",
   "id": "b96160eb-c60a-401e-8c46-0a0b487491ca",
   "metadata": {},
   "source": [
    "On the above table, random forest model (`random forest validate`) on validation data set has the recall scores of 99.48% which is slightly below the cross-validated random forest model (`random forest cv`). One of the possible for this small variation in recall score may be due to the differences in the data distributions since cross-validated model score is based on the performance across different training and validation split while validation score is based on just one dataset. "
   ]
  },
  {
   "cell_type": "markdown",
   "id": "70e6cc4e-3150-41c9-928b-f7cd62bc4594",
   "metadata": {},
   "source": [
    "#### XGBoost model"
   ]
  },
  {
   "cell_type": "code",
   "execution_count": 67,
   "id": "caf3c6aa-eac5-494d-b49c-e6fad0ad3b5a",
   "metadata": {},
   "outputs": [],
   "source": [
    "# use the XGBoost 'best_estimator' model to get predictions on the validation set\n",
    "\n",
    "xgb_pred = xgb_cv.best_estimator_.predict(X_val)"
   ]
  },
  {
   "cell_type": "code",
   "execution_count": 68,
   "id": "5c70622d-1c7a-42f6-b618-913d3d54b0c2",
   "metadata": {},
   "outputs": [
    {
     "data": {
      "text/html": [
       "<div>\n",
       "<style scoped>\n",
       "    .dataframe tbody tr th:only-of-type {\n",
       "        vertical-align: middle;\n",
       "    }\n",
       "\n",
       "    .dataframe tbody tr th {\n",
       "        vertical-align: top;\n",
       "    }\n",
       "\n",
       "    .dataframe thead th {\n",
       "        text-align: right;\n",
       "    }\n",
       "</style>\n",
       "<table border=\"1\" class=\"dataframe\">\n",
       "  <thead>\n",
       "    <tr style=\"text-align: right;\">\n",
       "      <th></th>\n",
       "      <th>Model</th>\n",
       "      <th>Accuracy</th>\n",
       "      <th>F1</th>\n",
       "      <th>Precision</th>\n",
       "      <th>Recall</th>\n",
       "    </tr>\n",
       "  </thead>\n",
       "  <tbody>\n",
       "    <tr>\n",
       "      <th>0</th>\n",
       "      <td>random forest cv</td>\n",
       "      <td>0.9980</td>\n",
       "      <td>0.9980</td>\n",
       "      <td>1.0000</td>\n",
       "      <td>0.9960</td>\n",
       "    </tr>\n",
       "    <tr>\n",
       "      <th>0</th>\n",
       "      <td>random forest validate</td>\n",
       "      <td>0.9974</td>\n",
       "      <td>0.9974</td>\n",
       "      <td>1.0000</td>\n",
       "      <td>0.9948</td>\n",
       "    </tr>\n",
       "    <tr>\n",
       "      <th>0</th>\n",
       "      <td>XGBoost cv</td>\n",
       "      <td>0.9945</td>\n",
       "      <td>0.9945</td>\n",
       "      <td>0.9988</td>\n",
       "      <td>0.9903</td>\n",
       "    </tr>\n",
       "    <tr>\n",
       "      <th>0</th>\n",
       "      <td>XGBoost validate</td>\n",
       "      <td>0.9932</td>\n",
       "      <td>0.9932</td>\n",
       "      <td>0.9974</td>\n",
       "      <td>0.9891</td>\n",
       "    </tr>\n",
       "    <tr>\n",
       "      <th>0</th>\n",
       "      <td>Logistic Reg</td>\n",
       "      <td>0.9937</td>\n",
       "      <td>0.9937</td>\n",
       "      <td>1.0000</td>\n",
       "      <td>0.9875</td>\n",
       "    </tr>\n",
       "  </tbody>\n",
       "</table>\n",
       "</div>"
      ],
      "text/plain": [
       "                    Model  Accuracy     F1  Precision  Recall\n",
       "0        random forest cv    0.9980 0.9980     1.0000  0.9960\n",
       "0  random forest validate    0.9974 0.9974     1.0000  0.9948\n",
       "0              XGBoost cv    0.9945 0.9945     0.9988  0.9903\n",
       "0        XGBoost validate    0.9932 0.9932     0.9974  0.9891\n",
       "0            Logistic Reg    0.9937 0.9937     1.0000  0.9875"
      ]
     },
     "execution_count": 68,
     "metadata": {},
     "output_type": "execute_result"
    }
   ],
   "source": [
    "# get all the test scores for the optimal XGBoost model using validation dataset\n",
    "\n",
    "xgb_val_result = evaluation_result('XGBoost validate', y_val, xgb_pred)\n",
    "\n",
    "# combine with xgb_val_result to result_final table\n",
    "\n",
    "result_final = pd.concat([result_final, xgb_val_result],axis=0)\n",
    "\n",
    "result_final.sort_values(by='Recall', ascending=False)"
   ]
  },
  {
   "cell_type": "markdown",
   "id": "c095ad1b-f345-4f83-ad61-0dce1759310b",
   "metadata": {},
   "source": [
    "#### Insight\n",
    "\n",
    "The `XGBoost validate` model results are lower than those of the `random forest validate` model, especially with recall scores. Compared to the latter model, the former model tends to make more false negatives, meaning more claims videos are identified as opinion videos. The random forest model is, therefore, the champion model. "
   ]
  },
  {
   "cell_type": "markdown",
   "id": "394d6722-0c06-48ac-bc23-13046c179705",
   "metadata": {},
   "source": [
    "### Use champion model to predict on test data"
   ]
  },
  {
   "cell_type": "code",
   "execution_count": 69,
   "id": "34b5c31c-ce20-4a0f-99c3-ef63d644625a",
   "metadata": {},
   "outputs": [],
   "source": [
    "# use champion model to predict on test data\n",
    "\n",
    "y_pred = rf_cv.best_estimator_.predict(X_test)"
   ]
  },
  {
   "cell_type": "code",
   "execution_count": 70,
   "id": "dc8d2e07-f6f8-4d80-87a1-020deb52955e",
   "metadata": {},
   "outputs": [
    {
     "data": {
      "text/html": [
       "<div>\n",
       "<style scoped>\n",
       "    .dataframe tbody tr th:only-of-type {\n",
       "        vertical-align: middle;\n",
       "    }\n",
       "\n",
       "    .dataframe tbody tr th {\n",
       "        vertical-align: top;\n",
       "    }\n",
       "\n",
       "    .dataframe thead th {\n",
       "        text-align: right;\n",
       "    }\n",
       "</style>\n",
       "<table border=\"1\" class=\"dataframe\">\n",
       "  <thead>\n",
       "    <tr style=\"text-align: right;\">\n",
       "      <th></th>\n",
       "      <th>Model</th>\n",
       "      <th>Accuracy</th>\n",
       "      <th>F1</th>\n",
       "      <th>Precision</th>\n",
       "      <th>Recall</th>\n",
       "    </tr>\n",
       "  </thead>\n",
       "  <tbody>\n",
       "    <tr>\n",
       "      <th>0</th>\n",
       "      <td>Champion RF model</td>\n",
       "      <td>0.9987</td>\n",
       "      <td>0.9987</td>\n",
       "      <td>1.0000</td>\n",
       "      <td>0.9974</td>\n",
       "    </tr>\n",
       "    <tr>\n",
       "      <th>0</th>\n",
       "      <td>random forest cv</td>\n",
       "      <td>0.9980</td>\n",
       "      <td>0.9980</td>\n",
       "      <td>1.0000</td>\n",
       "      <td>0.9960</td>\n",
       "    </tr>\n",
       "    <tr>\n",
       "      <th>0</th>\n",
       "      <td>random forest validate</td>\n",
       "      <td>0.9974</td>\n",
       "      <td>0.9974</td>\n",
       "      <td>1.0000</td>\n",
       "      <td>0.9948</td>\n",
       "    </tr>\n",
       "    <tr>\n",
       "      <th>0</th>\n",
       "      <td>XGBoost cv</td>\n",
       "      <td>0.9945</td>\n",
       "      <td>0.9945</td>\n",
       "      <td>0.9988</td>\n",
       "      <td>0.9903</td>\n",
       "    </tr>\n",
       "    <tr>\n",
       "      <th>0</th>\n",
       "      <td>XGBoost validate</td>\n",
       "      <td>0.9932</td>\n",
       "      <td>0.9932</td>\n",
       "      <td>0.9974</td>\n",
       "      <td>0.9891</td>\n",
       "    </tr>\n",
       "    <tr>\n",
       "      <th>0</th>\n",
       "      <td>Logistic Reg</td>\n",
       "      <td>0.9937</td>\n",
       "      <td>0.9937</td>\n",
       "      <td>1.0000</td>\n",
       "      <td>0.9875</td>\n",
       "    </tr>\n",
       "  </tbody>\n",
       "</table>\n",
       "</div>"
      ],
      "text/plain": [
       "                    Model  Accuracy     F1  Precision  Recall\n",
       "0       Champion RF model    0.9987 0.9987     1.0000  0.9974\n",
       "0        random forest cv    0.9980 0.9980     1.0000  0.9960\n",
       "0  random forest validate    0.9974 0.9974     1.0000  0.9948\n",
       "0              XGBoost cv    0.9945 0.9945     0.9988  0.9903\n",
       "0        XGBoost validate    0.9932 0.9932     0.9974  0.9891\n",
       "0            Logistic Reg    0.9937 0.9937     1.0000  0.9875"
      ]
     },
     "execution_count": 70,
     "metadata": {},
     "output_type": "execute_result"
    }
   ],
   "source": [
    "# get all the test scores for the champion model using test dataset\n",
    "\n",
    "champion_val_result = evaluation_result('Champion RF model', y_test, y_pred)\n",
    "\n",
    "# combine with xgb_val_result to result_final table\n",
    "\n",
    "result_final = pd.concat([result_final, champion_val_result],axis=0)\n",
    "\n",
    "result_final.sort_values(by='Recall', ascending=False)"
   ]
  },
  {
   "cell_type": "code",
   "execution_count": 71,
   "id": "e7316aca-0288-44d3-a258-fa948d28e888",
   "metadata": {},
   "outputs": [
    {
     "data": {
      "image/png": "[encoded data removed]",
      "text/plain": [
       "<Figure size 640x480 with 2 Axes>"
      ]
     },
     "metadata": {},
     "output_type": "display_data"
    }
   ],
   "source": [
    "# compute values for confusion matrix\n",
    "\n",
    "cm = confusion_matrix(y_test, y_pred, labels=rf_cv.classes_)\n",
    "\n",
    "# create display of confusion matrix\n",
    "\n",
    "disp = ConfusionMatrixDisplay(confusion_matrix=cm, display_labels=['opinion','claim'])\n",
    "\n",
    "# plot confusion matrix\n",
    "\n",
    "disp.plot(values_format='')\n",
    "\n",
    "# display plot\n",
    "\n",
    "plt.title('Random forest - using test set')\n",
    "plt.show()"
   ]
  },
  {
   "cell_type": "markdown",
   "id": "cf5e19d0-ff94-415f-8cae-963bbe86dbf1",
   "metadata": {},
   "source": [
    "#### Feature importances of champion model"
   ]
  },
  {
   "cell_type": "code",
   "execution_count": 72,
   "id": "f9c135d0-8f73-457b-a4c6-37583cd70977",
   "metadata": {},
   "outputs": [
    {
     "data": {
      "image/png": "[encoded data removed]",
      "text/plain": [
       "<Figure size 640x480 with 1 Axes>"
      ]
     },
     "metadata": {},
     "output_type": "display_data"
    }
   ],
   "source": [
    "importance = rf_cv.best_estimator_.feature_importances_\n",
    "rf_importance = pd.Series(importance, index=X_test.columns)\n",
    "\n",
    "top_10 = rf_importance.sort_values(ascending=False).head(10)\n",
    "\n",
    "fig, ax = plt.subplots()\n",
    "top_10.plot(kind='barh',ax=ax)\n",
    "ax.invert_yaxis()\n",
    "ax.set_title('Feature importances')\n",
    "ax.set_xlabel('Mean decrease in impurity')\n",
    "ax.set_ylabel('Features')\n",
    "fig.tight_layout()"
   ]
  },
  {
   "cell_type": "markdown",
   "id": "1cd3630b-3842-46ad-ba9d-fe363c6b3117",
   "metadata": {},
   "source": [
    "The most predictive features are all related to engagement levels generated by the video. This is expected, as analysis from prior EDA pointed to this conclusion."
   ]
  },
  {
   "cell_type": "markdown",
   "id": "f9a6b81a-9614-472d-9091-a98254bc4883",
   "metadata": {},
   "source": [
    "### Conclusion\n",
    "\n",
    "1. We can recommend this model because it performed well on both validation and test holdout data. Furthermore, both precision and F1 scores were consistently high. The model successfully classified claims and opinions.\n",
    "2. The model's most predictive features were related to the user engagement levels associated with each video. It classified videos based on how many views, likes, shares, and downloads they received.\n",
    "3. It may be helpful to have the number of times the video was reported and the total number of user reports for all videos posted by each author. These two new features may help to improve the model test scores further."
   ]
  }
 ],
 "metadata": {
  "kernelspec": {
   "display_name": "Python 3 (ipykernel)",
   "language": "python",
   "name": "python3"
  },
  "language_info": {
   "codemirror_mode": {
    "name": "ipython",
    "version": 3
   },
   "file_extension": ".py",
   "mimetype": "text/x-python",
   "name": "python",
   "nbconvert_exporter": "python",
   "pygments_lexer": "ipython3",
   "version": "3.11.7"
  }
 },
 "nbformat": 4,
 "nbformat_minor": 5
}
